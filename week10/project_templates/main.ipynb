{
 "cells": [
  {
   "cell_type": "code",
   "execution_count": 1,
   "metadata": {},
   "outputs": [],
   "source": [
    "import requests\n",
    "from bs4 import BeautifulSoup\n",
    "\n",
    "url = 'https://www.imdb.com/title/tt3581652/fullcredits'\n",
    "url = ''https://www.imdb.com/title/tt9777666/''\n",
    "response = requests.get(url) \n",
    "soup = BeautifulSoup(response.text)"
   ]
  },
  {
   "cell_type": "code",
   "execution_count": 7,
   "metadata": {},
   "outputs": [],
   "source": [
    "from functools import lru_cache"
   ]
  },
  {
   "cell_type": "code",
   "execution_count": 39,
   "metadata": {},
   "outputs": [
    {
     "name": "stdout",
     "output_type": "stream",
     "text": [
      "Requirement already satisfied: nest-asyncio in /Users/aleksandrkarablin/opt/anaconda3/envs/coursera_env/lib/python3.7/site-packages (1.5.1)\n"
     ]
    }
   ],
   "source": [
    "!pip install nest-asyncio\n",
    "import nest_asyncio\n",
    "nest_asyncio.apply()"
   ]
  },
  {
   "cell_type": "code",
   "execution_count": 1,
   "metadata": {},
   "outputs": [],
   "source": [
    "# define helper functions if needed\n",
    "# and put them in `imdb_helper_functions` module.\n",
    "# you can import them and use here like that:\n",
    "\n",
    "from bs4 import BeautifulSoup\n",
    "import lxml\n",
    "import cchardet\n",
    "from imdb_helper_functions import get_url\n",
    "from functools import lru_cache\n",
    "\n",
    "def get_actors_by_movie_soup(cast_page_soup: BeautifulSoup, num_of_actors_limit=None):\n",
    "    \n",
    "    actors=[]\n",
    "    cast_list = cast_page_soup.find('table', attrs={'class':'cast_list'})\n",
    "\n",
    "    for row in cast_list.find_all('tr'):\n",
    "        columns = row.find_all('td')\n",
    "\n",
    "        if len(columns) == 4:\n",
    "            actor = columns[1].find_next('a')\n",
    "            actor_name = actor.get_text().strip()\n",
    "            actor_url = actor.attrs['href']\n",
    "            actors.append((actor_name, actor_url))\n",
    "\n",
    "            if len(actors) == num_of_actors_limit:\n",
    "                break\n",
    "    \n",
    "    return actors\n",
    "\n",
    "\n",
    "def get_movies_by_actor_soup(actor_page_soup: BeautifulSoup, num_of_movies_limit=None):\n",
    "    filmography = actor_page_soup.find('div', attrs={'class':'filmo-category-section'})\n",
    "\n",
    "    movies = []\n",
    "    for movie in filmography.find_all('div', attrs={'class':'filmo-row'}):\n",
    "        refs = movie.find_all('a')\n",
    "        if len(refs) == 1 and refs[0].parent.next_sibling.text.strip() == '':\n",
    "            \n",
    "            movie = refs[0]\n",
    "            movies.append((movie.get_text(), movie.attrs['href']))\n",
    "\n",
    "            if len(movies) == num_of_movies_limit:\n",
    "                break\n",
    "\n",
    "    return movies\n",
    "\n",
    "\n",
    "@lru_cache(maxsize=None)\n",
    "def get_movies_by_actor_url(url, num_of_movies_limit=None):\n",
    "    page_text = get_url(url)\n",
    "    soup = BeautifulSoup(page_text, features=\"lxml\")\n",
    "    return get_movies_by_actor_soup(soup, num_of_movies_limit)\n",
    "\n",
    "@lru_cache(maxsize=None)\n",
    "def get_actors_by_movie_url(url, num_of_actors_limit=None):\n",
    "    page_text = get_url(url)\n",
    "    soup = BeautifulSoup(page_text, features=\"lxml\")\n",
    "    return get_actors_by_movie_soup(soup, num_of_actors_limit)\n"
   ]
  },
  {
   "cell_type": "code",
   "execution_count": 36,
   "metadata": {},
   "outputs": [],
   "source": [
    "import urllib\n",
    "import collections\n",
    "def get_movie_distance(actor_start_url, actor_end_url,\n",
    "        num_of_actors_limit=None, num_of_movies_limit=None):\n",
    "    \n",
    "    base_url = 'https://www.imdb.com/'\n",
    "    start_url = urllib.parse.urlparse(actor_start_url).path + '/'\n",
    "    end_url = urllib.parse.urlparse(actor_end_url).path + '/'\n",
    "\n",
    "    visited_urls = set() \n",
    "    movies_queue = collections.deque()\n",
    "    actors_queue = collections.deque()\n",
    "\n",
    "    actors_queue.append(start_url)\n",
    "\n",
    "    distance = 0\n",
    "    while len(actors_queue) + len(movies_queue) > 0:   \n",
    "        while actors_queue:\n",
    "            actor_url = actors_queue.popleft()\n",
    "            visited_urls.add(actor_url)\n",
    "\n",
    "            \n",
    "\n",
    "            url = urllib.parse.urljoin(base_url, actor_url)\n",
    "            actor_movies = get_movies_by_actor_url(url, num_of_actors_limit)\n",
    "\n",
    "            for movie, movie_url in actor_movies:\n",
    "                if movie_url in visited_urls:\n",
    "                    continue\n",
    "                \n",
    "                movies_queue.append(movie_url)\n",
    "\n",
    "        distance += 1\n",
    "\n",
    "        while movies_queue:\n",
    "            movie_url = movies_queue.popleft()\n",
    "            visited_urls.add(movie_url)\n",
    "\n",
    "            url = urllib.parse.urljoin(base_url, movie_url) + 'fullcredits'\n",
    "            movie_actors = get_actors_by_movie_url(url, num_of_movies_limit)\n",
    "\n",
    "            for actor, actor_url in movie_actors:\n",
    "                if actor_url in visited_urls:\n",
    "                    continue\n",
    "\n",
    "                if actor_url == end_url:\n",
    "                    return distance\n",
    "                \n",
    "                actors_queue.append(actor_url)\n"
   ]
  },
  {
   "cell_type": "code",
   "execution_count": null,
   "metadata": {},
   "outputs": [],
   "source": [
    "actor_start_url = 'https://www.imdb.com/name/nm0695435?ref_=tt_cl_t_1'\n",
    "actor_end_url = 'https://www.imdb.com/name/nm0366389/?ref_=tt_cl_t_3'\n",
    "get_movie_distance(actor_start_url, actor_end_url)"
   ]
  },
  {
   "cell_type": "code",
   "execution_count": 23,
   "metadata": {},
   "outputs": [
    {
     "data": {
      "text/plain": [
       "1"
      ]
     },
     "execution_count": 23,
     "metadata": {},
     "output_type": "execute_result"
    }
   ],
   "source": [
    "actor_start_url = 'https://www.imdb.com/name/nm0695435?ref_=tt_cl_t_1'\n",
    "actor_end_url = 'https://www.imdb.com/name/nm2088803?ref_=tt_cl_t_2'\n",
    "get_movie_distance(actor_start_url, actor_end_url)"
   ]
  },
  {
   "cell_type": "code",
   "execution_count": 4,
   "metadata": {},
   "outputs": [],
   "source": [
    "highest_paid_actors = [\n",
    "    ('Dwayne Johnson', 'https://www.imdb.com/name/nm0425005?ref_=nmls_hd'),\n",
    "    ('Chris Hemsworth', 'https://www.imdb.com/name/nm1165110?ref_=nmls_hd'),\n",
    "    ('Robert Downey Jr.', 'https://www.imdb.com/name/nm0000375?ref_=nmls_hd'),\n",
    "    ('Akshay Kumar', 'https://www.imdb.com/name/nm0474774?ref_=nmls_hd'),\n",
    "    ('Jackie Chan', 'https://www.imdb.com/name/nm0000329?ref_=nmls_hd'),\n",
    "    ('Bradley Cooper', 'https://www.imdb.com/name/nm0177896?ref_=nmls_hd'),\n",
    "    ('Adam Sandler', 'https://www.imdb.com/name/nm0001191?ref_=nmls_hd'),\n",
    "    ('Scarlett Johansson', 'https://www.imdb.com/name/nm0424060/?ref_=nv_sr_srsg_0'),\n",
    "    ('Sofia Vergara', 'https://www.imdb.com/name/nm0005527/?ref_=nv_sr_srsg_0'),\n",
    "    ('Chris Evans.', 'https://www.imdb.com/name/nm0262635?ref_=nmls_hd')\n",
    "]"
   ]
  },
  {
   "cell_type": "code",
   "execution_count": 38,
   "metadata": {},
   "outputs": [
    {
     "data": {
      "text/plain": [
       "[(('Dwayne Johnson', 'https://www.imdb.com/name/nm0425005?ref_=nmls_hd'),\n",
       "  ('Chris Hemsworth', 'https://www.imdb.com/name/nm1165110?ref_=nmls_hd')),\n",
       " (('Dwayne Johnson', 'https://www.imdb.com/name/nm0425005?ref_=nmls_hd'),\n",
       "  ('Robert Downey Jr.', 'https://www.imdb.com/name/nm0000375?ref_=nmls_hd')),\n",
       " (('Dwayne Johnson', 'https://www.imdb.com/name/nm0425005?ref_=nmls_hd'),\n",
       "  ('Akshay Kumar', 'https://www.imdb.com/name/nm0474774?ref_=nmls_hd')),\n",
       " (('Dwayne Johnson', 'https://www.imdb.com/name/nm0425005?ref_=nmls_hd'),\n",
       "  ('Jackie Chan', 'https://www.imdb.com/name/nm0000329?ref_=nmls_hd')),\n",
       " (('Dwayne Johnson', 'https://www.imdb.com/name/nm0425005?ref_=nmls_hd'),\n",
       "  ('Bradley Cooper', 'https://www.imdb.com/name/nm0177896?ref_=nmls_hd')),\n",
       " (('Dwayne Johnson', 'https://www.imdb.com/name/nm0425005?ref_=nmls_hd'),\n",
       "  ('Adam Sandler', 'https://www.imdb.com/name/nm0001191?ref_=nmls_hd')),\n",
       " (('Dwayne Johnson', 'https://www.imdb.com/name/nm0425005?ref_=nmls_hd'),\n",
       "  ('Scarlett Johansson',\n",
       "   'https://www.imdb.com/name/nm0424060/?ref_=nv_sr_srsg_0')),\n",
       " (('Dwayne Johnson', 'https://www.imdb.com/name/nm0425005?ref_=nmls_hd'),\n",
       "  ('Sofia Vergara', 'https://www.imdb.com/name/nm0005527/?ref_=nv_sr_srsg_0')),\n",
       " (('Dwayne Johnson', 'https://www.imdb.com/name/nm0425005?ref_=nmls_hd'),\n",
       "  ('Chris Evans.', 'https://www.imdb.com/name/nm0262635?ref_=nmls_hd')),\n",
       " (('Chris Hemsworth', 'https://www.imdb.com/name/nm1165110?ref_=nmls_hd'),\n",
       "  ('Robert Downey Jr.', 'https://www.imdb.com/name/nm0000375?ref_=nmls_hd')),\n",
       " (('Chris Hemsworth', 'https://www.imdb.com/name/nm1165110?ref_=nmls_hd'),\n",
       "  ('Akshay Kumar', 'https://www.imdb.com/name/nm0474774?ref_=nmls_hd')),\n",
       " (('Chris Hemsworth', 'https://www.imdb.com/name/nm1165110?ref_=nmls_hd'),\n",
       "  ('Jackie Chan', 'https://www.imdb.com/name/nm0000329?ref_=nmls_hd')),\n",
       " (('Chris Hemsworth', 'https://www.imdb.com/name/nm1165110?ref_=nmls_hd'),\n",
       "  ('Bradley Cooper', 'https://www.imdb.com/name/nm0177896?ref_=nmls_hd')),\n",
       " (('Chris Hemsworth', 'https://www.imdb.com/name/nm1165110?ref_=nmls_hd'),\n",
       "  ('Adam Sandler', 'https://www.imdb.com/name/nm0001191?ref_=nmls_hd')),\n",
       " (('Chris Hemsworth', 'https://www.imdb.com/name/nm1165110?ref_=nmls_hd'),\n",
       "  ('Scarlett Johansson',\n",
       "   'https://www.imdb.com/name/nm0424060/?ref_=nv_sr_srsg_0')),\n",
       " (('Chris Hemsworth', 'https://www.imdb.com/name/nm1165110?ref_=nmls_hd'),\n",
       "  ('Sofia Vergara', 'https://www.imdb.com/name/nm0005527/?ref_=nv_sr_srsg_0')),\n",
       " (('Chris Hemsworth', 'https://www.imdb.com/name/nm1165110?ref_=nmls_hd'),\n",
       "  ('Chris Evans.', 'https://www.imdb.com/name/nm0262635?ref_=nmls_hd')),\n",
       " (('Robert Downey Jr.', 'https://www.imdb.com/name/nm0000375?ref_=nmls_hd'),\n",
       "  ('Akshay Kumar', 'https://www.imdb.com/name/nm0474774?ref_=nmls_hd')),\n",
       " (('Robert Downey Jr.', 'https://www.imdb.com/name/nm0000375?ref_=nmls_hd'),\n",
       "  ('Jackie Chan', 'https://www.imdb.com/name/nm0000329?ref_=nmls_hd')),\n",
       " (('Robert Downey Jr.', 'https://www.imdb.com/name/nm0000375?ref_=nmls_hd'),\n",
       "  ('Bradley Cooper', 'https://www.imdb.com/name/nm0177896?ref_=nmls_hd')),\n",
       " (('Robert Downey Jr.', 'https://www.imdb.com/name/nm0000375?ref_=nmls_hd'),\n",
       "  ('Adam Sandler', 'https://www.imdb.com/name/nm0001191?ref_=nmls_hd')),\n",
       " (('Robert Downey Jr.', 'https://www.imdb.com/name/nm0000375?ref_=nmls_hd'),\n",
       "  ('Scarlett Johansson',\n",
       "   'https://www.imdb.com/name/nm0424060/?ref_=nv_sr_srsg_0')),\n",
       " (('Robert Downey Jr.', 'https://www.imdb.com/name/nm0000375?ref_=nmls_hd'),\n",
       "  ('Sofia Vergara', 'https://www.imdb.com/name/nm0005527/?ref_=nv_sr_srsg_0')),\n",
       " (('Robert Downey Jr.', 'https://www.imdb.com/name/nm0000375?ref_=nmls_hd'),\n",
       "  ('Chris Evans.', 'https://www.imdb.com/name/nm0262635?ref_=nmls_hd')),\n",
       " (('Akshay Kumar', 'https://www.imdb.com/name/nm0474774?ref_=nmls_hd'),\n",
       "  ('Jackie Chan', 'https://www.imdb.com/name/nm0000329?ref_=nmls_hd')),\n",
       " (('Akshay Kumar', 'https://www.imdb.com/name/nm0474774?ref_=nmls_hd'),\n",
       "  ('Bradley Cooper', 'https://www.imdb.com/name/nm0177896?ref_=nmls_hd')),\n",
       " (('Akshay Kumar', 'https://www.imdb.com/name/nm0474774?ref_=nmls_hd'),\n",
       "  ('Adam Sandler', 'https://www.imdb.com/name/nm0001191?ref_=nmls_hd')),\n",
       " (('Akshay Kumar', 'https://www.imdb.com/name/nm0474774?ref_=nmls_hd'),\n",
       "  ('Scarlett Johansson',\n",
       "   'https://www.imdb.com/name/nm0424060/?ref_=nv_sr_srsg_0')),\n",
       " (('Akshay Kumar', 'https://www.imdb.com/name/nm0474774?ref_=nmls_hd'),\n",
       "  ('Sofia Vergara', 'https://www.imdb.com/name/nm0005527/?ref_=nv_sr_srsg_0')),\n",
       " (('Akshay Kumar', 'https://www.imdb.com/name/nm0474774?ref_=nmls_hd'),\n",
       "  ('Chris Evans.', 'https://www.imdb.com/name/nm0262635?ref_=nmls_hd')),\n",
       " (('Jackie Chan', 'https://www.imdb.com/name/nm0000329?ref_=nmls_hd'),\n",
       "  ('Bradley Cooper', 'https://www.imdb.com/name/nm0177896?ref_=nmls_hd')),\n",
       " (('Jackie Chan', 'https://www.imdb.com/name/nm0000329?ref_=nmls_hd'),\n",
       "  ('Adam Sandler', 'https://www.imdb.com/name/nm0001191?ref_=nmls_hd')),\n",
       " (('Jackie Chan', 'https://www.imdb.com/name/nm0000329?ref_=nmls_hd'),\n",
       "  ('Scarlett Johansson',\n",
       "   'https://www.imdb.com/name/nm0424060/?ref_=nv_sr_srsg_0')),\n",
       " (('Jackie Chan', 'https://www.imdb.com/name/nm0000329?ref_=nmls_hd'),\n",
       "  ('Sofia Vergara', 'https://www.imdb.com/name/nm0005527/?ref_=nv_sr_srsg_0')),\n",
       " (('Jackie Chan', 'https://www.imdb.com/name/nm0000329?ref_=nmls_hd'),\n",
       "  ('Chris Evans.', 'https://www.imdb.com/name/nm0262635?ref_=nmls_hd')),\n",
       " (('Bradley Cooper', 'https://www.imdb.com/name/nm0177896?ref_=nmls_hd'),\n",
       "  ('Adam Sandler', 'https://www.imdb.com/name/nm0001191?ref_=nmls_hd')),\n",
       " (('Bradley Cooper', 'https://www.imdb.com/name/nm0177896?ref_=nmls_hd'),\n",
       "  ('Scarlett Johansson',\n",
       "   'https://www.imdb.com/name/nm0424060/?ref_=nv_sr_srsg_0')),\n",
       " (('Bradley Cooper', 'https://www.imdb.com/name/nm0177896?ref_=nmls_hd'),\n",
       "  ('Sofia Vergara', 'https://www.imdb.com/name/nm0005527/?ref_=nv_sr_srsg_0')),\n",
       " (('Bradley Cooper', 'https://www.imdb.com/name/nm0177896?ref_=nmls_hd'),\n",
       "  ('Chris Evans.', 'https://www.imdb.com/name/nm0262635?ref_=nmls_hd')),\n",
       " (('Adam Sandler', 'https://www.imdb.com/name/nm0001191?ref_=nmls_hd'),\n",
       "  ('Scarlett Johansson',\n",
       "   'https://www.imdb.com/name/nm0424060/?ref_=nv_sr_srsg_0')),\n",
       " (('Adam Sandler', 'https://www.imdb.com/name/nm0001191?ref_=nmls_hd'),\n",
       "  ('Sofia Vergara', 'https://www.imdb.com/name/nm0005527/?ref_=nv_sr_srsg_0')),\n",
       " (('Adam Sandler', 'https://www.imdb.com/name/nm0001191?ref_=nmls_hd'),\n",
       "  ('Chris Evans.', 'https://www.imdb.com/name/nm0262635?ref_=nmls_hd')),\n",
       " (('Scarlett Johansson',\n",
       "   'https://www.imdb.com/name/nm0424060/?ref_=nv_sr_srsg_0'),\n",
       "  ('Sofia Vergara', 'https://www.imdb.com/name/nm0005527/?ref_=nv_sr_srsg_0')),\n",
       " (('Scarlett Johansson',\n",
       "   'https://www.imdb.com/name/nm0424060/?ref_=nv_sr_srsg_0'),\n",
       "  ('Chris Evans.', 'https://www.imdb.com/name/nm0262635?ref_=nmls_hd')),\n",
       " (('Sofia Vergara', 'https://www.imdb.com/name/nm0005527/?ref_=nv_sr_srsg_0'),\n",
       "  ('Chris Evans.', 'https://www.imdb.com/name/nm0262635?ref_=nmls_hd'))]"
      ]
     },
     "execution_count": 38,
     "metadata": {},
     "output_type": "execute_result"
    }
   ],
   "source": [
    "actors_pairs = []\n",
    "for i in range(len(highest_paid_actors)):\n",
    "    for j in range(i+1, len(highest_paid_actors)):\n",
    "        actors_pairs.append((highest_paid_actors[i],highest_paid_actors[j]))\n",
    "actors_pairs"
   ]
  },
  {
   "cell_type": "code",
   "execution_count": null,
   "metadata": {},
   "outputs": [],
   "source": [
    "#highes_paid_distance = []\n",
    "for i in range(len(highest_paid_actors)):\n",
    "    for j in range(i+1, len(highest_paid_actors)):\n",
    "        actor1, actor1_url = highest_paid_actors[i]\n",
    "        actor2, actor2_url = highest_paid_actors[j]\n",
    "        if (actor1, actor2) in distances or (actor2, actor1) in distances:\n",
    "            print('skip')\n",
    "            continue \n",
    "        distance = get_movie_distance(actor1_url, actor2_url)\n",
    "        highes_paid_distance.append((actor1, actor2, distance))\n",
    "        distances[(actor1, actor2)] = distance\n"
   ]
  },
  {
   "cell_type": "code",
   "execution_count": 33,
   "metadata": {},
   "outputs": [
    {
     "data": {
      "text/plain": [
       "[('Dwayne Johnson', 'Chris Hemsworth', 2),\n",
       " ('Dwayne Johnson', 'Robert Downey Jr.', 2),\n",
       " ('Dwayne Johnson', 'Akshay Kumar', 2),\n",
       " ('Dwayne Johnson', 'Jackie Chan', 2),\n",
       " ('Dwayne Johnson', 'Bradley Cooper', 2),\n",
       " ('Dwayne Johnson', 'Adam Sandler', 2)]"
      ]
     },
     "execution_count": 33,
     "metadata": {},
     "output_type": "execute_result"
    }
   ],
   "source": [
    "highes_paid_distance"
   ]
  },
  {
   "cell_type": "code",
   "execution_count": 18,
   "metadata": {},
   "outputs": [
    {
     "data": {
      "text/plain": [
       "{('Dwayne Johnson', 'Chris Hemsworth'): 2,\n",
       " ('Dwayne Johnson', 'Robert Downey Jr.'): 2,\n",
       " ('Dwayne Johnson', 'Akshay Kumar'): 2,\n",
       " ('Dwayne Johnson', 'Jackie Chan'): 2,\n",
       " ('Dwayne Johnson', 'Bradley Cooper'): 2,\n",
       " ('Dwayne Johnson', 'Adam Sandler'): 2}"
      ]
     },
     "execution_count": 18,
     "metadata": {},
     "output_type": "execute_result"
    }
   ],
   "source": [
    "distances = {(a, b) : c for a, b, c in highes_paid_distance}\n",
    "distances"
   ]
  },
  {
   "cell_type": "code",
   "execution_count": 8,
   "metadata": {},
   "outputs": [
    {
     "data": {
      "text/plain": [
       "'/name/nm0695435'"
      ]
     },
     "execution_count": 8,
     "metadata": {},
     "output_type": "execute_result"
    }
   ],
   "source": [
    "base_url = 'https://www.imdb.com/'\n",
    "url = 'https://www.imdb.com/name/nm0695435/'\n",
    "end_url = urllib.parse.urlparse(url)\n",
    "end_url.path"
   ]
  },
  {
   "cell_type": "code",
   "execution_count": 15,
   "metadata": {},
   "outputs": [
    {
     "data": {
      "text/plain": [
       "'Ansel Elgort'"
      ]
     },
     "execution_count": 15,
     "metadata": {},
     "output_type": "execute_result"
    }
   ],
   "source": [
    "data_row.find('td', attrs={'class':'ellipsis'}).find_previous_sibling('td').find_next('a').get_text().strip()"
   ]
  },
  {
   "cell_type": "code",
   "execution_count": 32,
   "metadata": {},
   "outputs": [],
   "source": [
    "url = 'https://www.imdb.com/name/nm5052065'\n",
    "response = requests.get(url)\n",
    "soup = BeautifulSoup(response.text)"
   ]
  },
  {
   "cell_type": "code",
   "execution_count": 33,
   "metadata": {},
   "outputs": [
    {
     "data": {
      "text/plain": [
       "[('Вестсайдская история', '/title/tt3581652/'),\n",
       " ('Щегол', '/title/tt3864056/'),\n",
       " ('J.I.D.: Off Da Zoinkys', '/title/tt10301894/'),\n",
       " ('Клуб миллиардеров', '/title/tt5179598/'),\n",
       " ('Дубликат', '/title/tt5639446/'),\n",
       " ('Ansel Elgort: Supernova', '/title/tt8246022/'),\n",
       " ('Ноябрьские преступники', '/title/tt3266284/'),\n",
       " ('Малыш на драйве', '/title/tt3890160/'),\n",
       " ('Ansel Elgort: Thief', '/title/tt8246020/'),\n",
       " ('Dua Lipa: Be the One (Version 2)', '/title/tt7307962/'),\n",
       " ('Allegiant: VR Experience', '/title/tt5573116/'),\n",
       " ('Дивергент, глава 3: За стеной', '/title/tt3410834/'),\n",
       " ('Бумажные города', '/title/tt3622592/'),\n",
       " ('Дивергент, глава 2: Инсургент', '/title/tt2908446/'),\n",
       " ('Мужчины, женщины и дети', '/title/tt3179568/'),\n",
       " ('Виноваты звезды', '/title/tt2582846/'),\n",
       " ('Дивергент', '/title/tt1840309/'),\n",
       " ('Телекинез', '/title/tt1939659/')]"
      ]
     },
     "execution_count": 33,
     "metadata": {},
     "output_type": "execute_result"
    }
   ],
   "source": [
    "filmography = soup.find('div', attrs={'class':'filmo-category-section'})\n",
    "\n",
    "films = []\n",
    "for film in filmography.find_all('div', attrs={'class':'filmo-row'}):\n",
    "    refs = film.find_all('a')\n",
    "    if(len(refs) == 1):\n",
    "        film = refs[0]\n",
    "        films.append((film.get_text(), film.attrs['href']))\n",
    "films"
   ]
  },
  {
   "cell_type": "code",
   "execution_count": 34,
   "metadata": {},
   "outputs": [],
   "source": [
    "divs = filmography.find_all('div', attrs={'class':'filmo-row'})"
   ]
  },
  {
   "cell_type": "code",
   "execution_count": 60,
   "metadata": {},
   "outputs": [
    {
     "data": {
      "text/plain": [
       "'br'"
      ]
     },
     "execution_count": 60,
     "metadata": {},
     "output_type": "execute_result"
    }
   ],
   "source": [
    "a = divs[7].find('a')\n",
    "a.parent.nextSibling.nextSibling.name"
   ]
  }
 ],
 "metadata": {
  "interpreter": {
   "hash": "9aa9c2aeb07b1e1143b9f3310e367c92b5d4c626ecd2b4a786067b16c7dc3041"
  },
  "kernelspec": {
   "display_name": "Python 3.7.11 64-bit ('coursera_env': conda)",
   "language": "python",
   "name": "python3"
  },
  "language_info": {
   "codemirror_mode": {
    "name": "ipython",
    "version": 3
   },
   "file_extension": ".py",
   "mimetype": "text/x-python",
   "name": "python",
   "nbconvert_exporter": "python",
   "pygments_lexer": "ipython3",
   "version": "3.7.11"
  },
  "orig_nbformat": 4
 },
 "nbformat": 4,
 "nbformat_minor": 2
}

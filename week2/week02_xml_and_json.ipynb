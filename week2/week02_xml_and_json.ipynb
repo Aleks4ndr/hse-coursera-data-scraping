{
 "cells": [
  {
   "cell_type": "markdown",
   "metadata": {},
   "source": [
    "# Parsing XML and JSON"
   ]
  },
  {
   "cell_type": "markdown",
   "metadata": {},
   "source": [
    "## Week 2. Practice Programming Assignment 1"
   ]
  },
  {
   "cell_type": "markdown",
   "metadata": {},
   "source": [
    "In this assignment you are provided with an XML file and JSON file. The files contain some information about stock prices from Moscow Stock Exchange. You will need to inspect the data to answer some questions. "
   ]
  },
  {
   "cell_type": "markdown",
   "metadata": {},
   "source": [
    "###### Import coursera grader tools"
   ]
  },
  {
   "cell_type": "code",
   "execution_count": 37,
   "metadata": {},
   "outputs": [],
   "source": [
    "import sys\n",
    "sys.path.append(\"..\")\n",
    "import grading\n",
    "grader = grading.Grader(assignment_key=\"Doyqa3BoSgahCPCmHnb8HA\", \n",
    "                      all_parts=[\"hcaCl\", \"xVJ1y\", \"wK84i\", \"7gJ6O\", \"KxRDE\",\n",
    "                                 \"PdSl8\", \"28ZKD\", \"vQHz0\", \"wGRXW\", \"KRfXm\"])"
   ]
  },
  {
   "cell_type": "code",
   "execution_count": 89,
   "metadata": {},
   "outputs": [],
   "source": [
    "# token expires every 30 min\n",
    "COURSERA_EMAIL = 'aleks4ndr0@gmail.com'\n",
    "COURSERA_TOKEN = 'vc5xrQPEnpuS58PU'"
   ]
  },
  {
   "cell_type": "markdown",
   "metadata": {},
   "source": [
    "<br><br><br><br>"
   ]
  },
  {
   "cell_type": "markdown",
   "metadata": {},
   "source": [
    "### Part 1. XML"
   ]
  },
  {
   "cell_type": "markdown",
   "metadata": {},
   "source": [
    "You are provided with file `securities.xml`. Explore it to answer the quesionts."
   ]
  },
  {
   "cell_type": "markdown",
   "metadata": {},
   "source": [
    "**Question 1.** How many elements are in the XML file?"
   ]
  },
  {
   "cell_type": "code",
   "execution_count": 39,
   "metadata": {},
   "outputs": [
    {
     "name": "stdout",
     "output_type": "stream",
     "text": [
      "88\n"
     ]
    }
   ],
   "source": [
    "import xml.etree.ElementTree as ET\n",
    "xml_file = ET.parse('securities.xml')\n",
    "\n",
    "count = 0\n",
    "for elt in xml_file.iter():\n",
    "    count += 1\n",
    "print(count)\n",
    "answer_part_1 = count"
   ]
  },
  {
   "cell_type": "code",
   "execution_count": 62,
   "metadata": {},
   "outputs": [],
   "source": [
    "# Setting our answers to grader. Do not change!\n",
    "\n",
    "\n",
    "grader.set_answer(\"hcaCl\", answer_part_1)"
   ]
  },
  {
   "cell_type": "markdown",
   "metadata": {},
   "source": [
    "<br>\n",
    "\n",
    "**Question 2.** How many XML elements named 'row' are in the XML-file? "
   ]
  },
  {
   "cell_type": "code",
   "execution_count": 64,
   "metadata": {},
   "outputs": [
    {
     "name": "stdout",
     "output_type": "stream",
     "text": [
      "55\n"
     ]
    }
   ],
   "source": [
    "count = 0\n",
    "for elt in xml_file.iter('row'):\n",
    "    count += 1\n",
    "print(count)\n",
    "answer_part_2 = count"
   ]
  },
  {
   "cell_type": "code",
   "execution_count": 65,
   "metadata": {},
   "outputs": [],
   "source": [
    "# Setting our answers to grader. Do not change!\n",
    "grader.set_answer(\"xVJ1y\", answer_part_2)"
   ]
  },
  {
   "cell_type": "markdown",
   "metadata": {},
   "source": [
    "<br>\n",
    "\n",
    "**Question 3.** What is the height of the file's XML tree? \n",
    "\n",
    "<br>\n",
    "\n",
    "*Note:* By the height of the tree we mean the length of the longest sequence of nodes from root element to a leaf element. For example: let's look at the following XML:\n",
    "\n",
    "```\n",
    "<root>\n",
    "    <element1>\n",
    "        <some_element></some_element>\n",
    "    </element1>\n",
    "    <element_2></element_2>\n",
    "</root>\n",
    "```\n",
    "\n",
    "The height of the tree here is 3, since there are two sequences from root to leaf:\n",
    "\n",
    "1. `<root>` - `<element_1>` - `<some_element>`\n",
    "2. `<root>` - `<element_2>`\n",
    "\n",
    "The first sequence is the longest, and its length is 3."
   ]
  },
  {
   "cell_type": "code",
   "execution_count": 43,
   "metadata": {},
   "outputs": [
    {
     "name": "stdout",
     "output_type": "stream",
     "text": [
      "5\n"
     ]
    }
   ],
   "source": [
    "\n",
    "def tree_height(root, level=1):\n",
    "    \n",
    "    levels = [level]\n",
    "    for elt in root:\n",
    "        levels.append(tree_height(elt, level + 1))\n",
    "\n",
    "    return max(levels)\n",
    "\n",
    "root = xml_file.getroot()\n",
    "height = tree_height(root)\n",
    "print(height)\n",
    "answer_part_3 = height"
   ]
  },
  {
   "cell_type": "code",
   "execution_count": 44,
   "metadata": {},
   "outputs": [],
   "source": [
    "# Setting our answers to grader. Do not change!\n",
    "grader.set_answer(\"wK84i\", answer_part_3)"
   ]
  },
  {
   "cell_type": "markdown",
   "metadata": {},
   "source": [
    "<br>\n",
    "\n",
    "Each `row` element contains data about some stock in its attribute values. For example, attributes CLOSE and OPEN stand for close price and open price for a stock in this day accordingly. Attribute VOLUME stands for total trade volume of the stock in this particular day.\n",
    "\n",
    "**Question 4.** What is average value of a difference between CLOSE and OPEN prices among all stocks present? \n",
    "\n",
    "*Note:* If a stock doesn't have data about its CLOSE and OPEN prices, skip it."
   ]
  },
  {
   "cell_type": "code",
   "execution_count": 87,
   "metadata": {},
   "outputs": [
    {
     "name": "stdout",
     "output_type": "stream",
     "text": [
      "-81.72016052499997\n"
     ]
    }
   ],
   "source": [
    "open_close_diffs = []\n",
    "\n",
    "for elt in xml_file.findall('''.//row[@OPEN][@CLOSE]'''):\n",
    "    if elt.attrib.get(\"OPEN\") == \"\" or elt.attrib.get(\"CLOSE\") == \"\":\n",
    "        continue\n",
    "    open_close_diffs.append(float(elt.attrib.get(\"CLOSE\")) - float(elt.attrib.get(\"OPEN\")))\n",
    "    \n",
    "\n",
    "# for elt in xml_file.iter('row'):\n",
    "    # if elt.attrib.get(\"OPEN\") == \"\" or elt.attrib.get(\"CLOSE\") == \"\":\n",
    "    #     continue\n",
    "#     open_close_diffs.append(float(elt.attrib.get(\"OPEN\")) - float(elt.attrib.get(\"CLOSE\")))\n",
    "\n",
    "avg_diff = sum(open_close_diffs) / len(open_close_diffs)\n",
    "print(avg_diff)\n",
    "\n",
    "answer_part_4 = avg_diff"
   ]
  },
  {
   "cell_type": "code",
   "execution_count": 71,
   "metadata": {},
   "outputs": [
    {
     "data": {
      "text/plain": [
       "True"
      ]
     },
     "execution_count": 71,
     "metadata": {},
     "output_type": "execute_result"
    }
   ],
   "source": [
    "a = {}\n",
    "type(a) == type({})"
   ]
  },
  {
   "cell_type": "code",
   "execution_count": 88,
   "metadata": {},
   "outputs": [],
   "source": [
    "# Setting our answers to grader. Do not change!\n",
    "grader.set_answer(\"7gJ6O\", answer_part_4)"
   ]
  },
  {
   "cell_type": "markdown",
   "metadata": {},
   "source": [
    "<br>\n",
    "\n",
    "**Question 5.** What is the value of largest VOLUME among all stocks present? "
   ]
  },
  {
   "cell_type": "code",
   "execution_count": 73,
   "metadata": {},
   "outputs": [
    {
     "name": "stdout",
     "output_type": "stream",
     "text": [
      "63615300000.0\n"
     ]
    }
   ],
   "source": [
    "max_volume = 0\n",
    "\n",
    "for elt in xml_file.findall('''.//row[@VOLUME]'''):\n",
    "    if elt.attrib.get(\"VOLUME\") == \"\":\n",
    "        continue\n",
    "    max_volume = max(float(elt.attrib.get(\"VOLUME\")), max_volume)\n",
    "\n",
    "print(max_volume)\n",
    "\n",
    "answer_part_5 = max_volume"
   ]
  },
  {
   "cell_type": "code",
   "execution_count": 74,
   "metadata": {},
   "outputs": [],
   "source": [
    "# Setting our answers to grader. Do not change!\n",
    "grader.set_answer(\"KxRDE\", answer_part_5)"
   ]
  },
  {
   "cell_type": "markdown",
   "metadata": {},
   "source": [
    "<br><br><br><br><br>"
   ]
  },
  {
   "cell_type": "markdown",
   "metadata": {},
   "source": [
    "### Part 2. JSON"
   ]
  },
  {
   "cell_type": "markdown",
   "metadata": {},
   "source": [
    "You are provided with file `securities.json`. It also has some information about stocks, but It has a slightly different structure. Explore it to answer the quesionts.\n",
    "\n",
    "*Note:* `data`-element in the file containts rows with data values. To see names for these values (what data value means what) you need to check element `securities['history']['columns']`\n",
    "\n",
    "<br>"
   ]
  },
  {
   "cell_type": "markdown",
   "metadata": {},
   "source": [
    "\n",
    "\n",
    "**Question 6.** What is the height of the file's JSON tree? \n",
    "\n",
    "*Note:* By the height of the tree we mean the length of the longest sequence of nodes from root element to a leaf element (similar to the height of an XML defined in Question 3)"
   ]
  },
  {
   "cell_type": "code",
   "execution_count": 75,
   "metadata": {},
   "outputs": [
    {
     "name": "stdout",
     "output_type": "stream",
     "text": [
      "5\n"
     ]
    }
   ],
   "source": [
    "import json\n",
    "\n",
    "def json_height(json_data, level=1):\n",
    "\n",
    "    next_level = level+1\n",
    "\n",
    "    if isinstance(json_data, dict):\n",
    "        for value in json_data.values():\n",
    "            level = max(level, json_height(value, next_level))\n",
    "    elif isinstance(json_data, list):\n",
    "        for value in json_data:\n",
    "            level = max(level, json_height(value, next_level))\n",
    "\n",
    "    return level\n",
    "\n",
    "\n",
    "\n",
    "with open('securities.json', 'r') as file:\n",
    "    json_file = json.load(file)\n",
    "\n",
    "height = json_height(json_file)\n",
    "print(height)\n",
    "\n",
    "answer_part_6 = height"
   ]
  },
  {
   "cell_type": "code",
   "execution_count": 76,
   "metadata": {},
   "outputs": [],
   "source": [
    "# Setting our answers to grader. Do not change!\n",
    "grader.set_answer(\"PdSl8\", answer_part_6)"
   ]
  },
  {
   "cell_type": "markdown",
   "metadata": {},
   "source": [
    "<br>\n",
    "\n",
    "**Question 7.** How many branches does `data` element have? "
   ]
  },
  {
   "cell_type": "code",
   "execution_count": 77,
   "metadata": {},
   "outputs": [
    {
     "name": "stdout",
     "output_type": "stream",
     "text": [
      "63\n"
     ]
    }
   ],
   "source": [
    "answer_part_7 = len(json_file['history']['data'])\n",
    "print(answer_part_7)"
   ]
  },
  {
   "cell_type": "code",
   "execution_count": 78,
   "metadata": {},
   "outputs": [],
   "source": [
    "# Setting our answers to grader. Do not change!\n",
    "grader.set_answer(\"28ZKD\", answer_part_7)"
   ]
  },
  {
   "cell_type": "markdown",
   "metadata": {},
   "source": [
    "<br>\n",
    "\n",
    "**Question 8.** What is the average value of a difference between HIGH and LOW prices? \n",
    "\n",
    "*Note:* If a stock doesn't have data about its HIGH and LOW prices, skip it."
   ]
  },
  {
   "cell_type": "code",
   "execution_count": 79,
   "metadata": {},
   "outputs": [
    {
     "name": "stdout",
     "output_type": "stream",
     "text": [
      "8\n",
      "7\n",
      "15.93157894736842\n"
     ]
    }
   ],
   "source": [
    "diffs = []\n",
    "low_col = list(json_file['history']['metadata']).index(\"LOW\")\n",
    "print(low_col)\n",
    "high_col = list(json_file['history']['metadata']).index(\"HIGH\")\n",
    "print(high_col)\n",
    "\n",
    "for row in json_file['history']['data']:\n",
    "    if row[low_col] == None or row[high_col] == None:\n",
    "        continue\n",
    "\n",
    "    diffs.append(row[high_col] - row[low_col])\n",
    "\n",
    "avg_diff = sum(diffs)/len(diffs)\n",
    "print(avg_diff)\n",
    "answer_part_8 = avg_diff"
   ]
  },
  {
   "cell_type": "code",
   "execution_count": 80,
   "metadata": {},
   "outputs": [],
   "source": [
    "# Setting our answers to grader. Do not change!\n",
    "grader.set_answer(\"vQHz0\", answer_part_8)"
   ]
  },
  {
   "cell_type": "markdown",
   "metadata": {},
   "source": [
    "<br>\n",
    "\n",
    "**Question 9.** How many unique values of BOARDID do we see in data? "
   ]
  },
  {
   "cell_type": "code",
   "execution_count": 81,
   "metadata": {},
   "outputs": [
    {
     "name": "stdout",
     "output_type": "stream",
     "text": [
      "2\n"
     ]
    }
   ],
   "source": [
    "board_ids = set()\n",
    "col_idx = list(json_file['history']['metadata']).index(\"BOARDID\")\n",
    "\n",
    "for row in json_file['history']['data']:\n",
    "    if row[col_idx] == None or row[col_idx] == '':\n",
    "        continue\n",
    "    board_ids.add(row[col_idx])\n",
    "\n",
    "\n",
    "\n",
    "answer_part_9 = len(board_ids)\n",
    "print(answer_part_9)\n"
   ]
  },
  {
   "cell_type": "code",
   "execution_count": 82,
   "metadata": {},
   "outputs": [],
   "source": [
    "# Setting our answers to grader. Do not change!\n",
    "grader.set_answer(\"wGRXW\", answer_part_9)"
   ]
  },
  {
   "cell_type": "markdown",
   "metadata": {},
   "source": [
    "<br>\n",
    "\n",
    "**Question 10.** What value of BOARDID is the most occuring?  "
   ]
  },
  {
   "cell_type": "code",
   "execution_count": 83,
   "metadata": {},
   "outputs": [
    {
     "name": "stdout",
     "output_type": "stream",
     "text": [
      "SNDX\n"
     ]
    }
   ],
   "source": [
    "boardiids_count = dict()\n",
    "col_idx = list(json_file['history']['metadata']).index(\"BOARDID\")\n",
    "\n",
    "for row in json_file['history']['data']:\n",
    "    if row[col_idx] == None or row[col_idx] == '':\n",
    "        continue\n",
    "    count = boardiids_count.setdefault(row[col_idx], 0)\n",
    "    boardiids_count[row[col_idx]] = count + 1\n",
    "\n",
    "\n",
    "\n",
    "max_count = 0\n",
    "max_key = None\n",
    "for key, val in boardiids_count.items():\n",
    "    if val > max_count:\n",
    "        max_key = key\n",
    "        max_count = val\n",
    "\n",
    "print(max_key)\n",
    "\n",
    "answer_part_10 = max_key"
   ]
  },
  {
   "cell_type": "code",
   "execution_count": 84,
   "metadata": {},
   "outputs": [],
   "source": [
    "# Setting our answers to grader. Do not change!\n",
    "grader.set_answer(\"KRfXm\", answer_part_10)"
   ]
  },
  {
   "cell_type": "markdown",
   "metadata": {},
   "source": [
    "<br>\n",
    "<br>\n",
    "\n",
    "### Submitting answers"
   ]
  },
  {
   "cell_type": "code",
   "execution_count": 90,
   "metadata": {},
   "outputs": [
    {
     "name": "stdout",
     "output_type": "stream",
     "text": [
      "Submitted to Coursera platform. See results on assignment page!\n"
     ]
    }
   ],
   "source": [
    "# you can make submission with answers so far to check yourself at this stage\n",
    "grader.submit(COURSERA_EMAIL, COURSERA_TOKEN)"
   ]
  },
  {
   "cell_type": "code",
   "execution_count": 2,
   "metadata": {},
   "outputs": [
    {
     "data": {
      "text/plain": [
       "1.0"
      ]
     },
     "execution_count": 2,
     "metadata": {},
     "output_type": "execute_result"
    }
   ],
   "source": [
    "import numpy as np\n",
    "from scipy.stats import binom\n",
    "\n"
   ]
  },
  {
   "cell_type": "code",
   "execution_count": 17,
   "metadata": {},
   "outputs": [
    {
     "data": {
      "text/plain": [
       "0.024124268448461716"
      ]
     },
     "execution_count": 17,
     "metadata": {},
     "output_type": "execute_result"
    }
   ],
   "source": [
    "1 - binom.cdf(10, 11, 0.5)**50"
   ]
  },
  {
   "cell_type": "code",
   "execution_count": 24,
   "metadata": {},
   "outputs": [
    {
     "data": {
      "text/plain": [
       "0.005908966064453125"
      ]
     },
     "execution_count": 24,
     "metadata": {},
     "output_type": "execute_result"
    }
   ],
   "source": [
    "1 - binom.cdf(15, 20, 0.5) "
   ]
  },
  {
   "cell_type": "code",
   "execution_count": 25,
   "metadata": {},
   "outputs": [],
   "source": [
    "import re"
   ]
  },
  {
   "cell_type": "code",
   "execution_count": 31,
   "metadata": {},
   "outputs": [],
   "source": [
    "p =  re.compile('why ^[a-z]')"
   ]
  },
  {
   "cell_type": "code",
   "execution_count": 33,
   "metadata": {},
   "outputs": [],
   "source": [
    "re.search(p, 'why')"
   ]
  }
 ],
 "metadata": {
  "interpreter": {
   "hash": "602784b86c226fddc0ddeaf840a9ff23b4226fcc68027037f00074be1de270ac"
  },
  "kernelspec": {
   "display_name": "Python 3.8.8 64-bit ('base': conda)",
   "name": "python3"
  },
  "language_info": {
   "codemirror_mode": {
    "name": "ipython",
    "version": 3
   },
   "file_extension": ".py",
   "mimetype": "text/x-python",
   "name": "python",
   "nbconvert_exporter": "python",
   "pygments_lexer": "ipython3",
   "version": "3.8.8"
  }
 },
 "nbformat": 4,
 "nbformat_minor": 4
}

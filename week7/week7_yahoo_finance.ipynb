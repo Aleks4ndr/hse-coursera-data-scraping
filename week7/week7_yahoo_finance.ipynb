{
 "cells": [
  {
   "cell_type": "markdown",
   "metadata": {},
   "source": [
    "# Scraping Yahoo Finance"
   ]
  },
  {
   "cell_type": "markdown",
   "metadata": {},
   "source": [
    "## Week 7. Practice Programming Assignment 1"
   ]
  },
  {
   "cell_type": "markdown",
   "metadata": {},
   "source": [
    "In this assignment you are required to look at historical data for 30 companies from [Dow Jones Index](https://en.wikipedia.org/wiki/Dow_Jones_Industrial_Average). Tickers for companies from the index can be found in *dow_jones_tickers.txt*. For each company you should get historical daily stock prices for 2019 from https://finance.yahoo.com/, and then use the data to answer the questions you will find below. "
   ]
  },
  {
   "cell_type": "markdown",
   "metadata": {},
   "source": [
    "###### Import coursera grader tools"
   ]
  },
  {
   "cell_type": "code",
   "execution_count": 1,
   "metadata": {},
   "outputs": [],
   "source": [
    "import sys\n",
    "sys.path.append(\"..\")\n",
    "import grading\n",
    "grader = grading.Grader(assignment_key=\"FpZrXMbETcuStX7z6jFv2Q\", \n",
    "                      all_parts=[\"RbP2k\", \"LLRai\", \"hgIbw\", \"Tx3OG\", \"Y05pG\",\n",
    "                                 \"lFPeF\", \"htUtf\", \"Xri0I\", \"4JfUm\", \"oD7pP\"])"
   ]
  },
  {
   "cell_type": "code",
   "execution_count": 305,
   "metadata": {},
   "outputs": [],
   "source": [
    "# token expires every 30 min\n",
    "COURSERA_EMAIL = 'aleks4ndr0@gmail.com'\n",
    "COURSERA_TOKEN = 'J5DycGLbgKhZKzFW'"
   ]
  },
  {
   "cell_type": "markdown",
   "metadata": {},
   "source": [
    "<br><br><br><br>"
   ]
  },
  {
   "cell_type": "markdown",
   "metadata": {},
   "source": [
    "### Coding part"
   ]
  },
  {
   "cell_type": "code",
   "execution_count": 237,
   "metadata": {},
   "outputs": [],
   "source": [
    "# you can start your web-scraping here\n",
    "import requests\n",
    "import pandas as pd \n",
    "from io import StringIO\n",
    "import numpy as np\n",
    "import datetime\n",
    "\n",
    "session = requests.session()"
   ]
  },
  {
   "cell_type": "code",
   "execution_count": 2,
   "metadata": {},
   "outputs": [],
   "source": [
    "dow_jones_companies = []\n",
    "\n",
    "with open('dow_jones_tickers.txt') as f:\n",
    "    for ticker in f:\n",
    "        dow_jones_companies.append(ticker.strip())"
   ]
  },
  {
   "cell_type": "code",
   "execution_count": 35,
   "metadata": {},
   "outputs": [],
   "source": [
    "tickes_data = {}\n",
    "headers = {\n",
    "    \"user-agent\":\"Mozilla/5.0 (Macintosh; Intel Mac OS X 10_15_7) AppleWebKit/537.36 (KHTML, like Gecko) Chrome/95.0.4638.69 Safari/537.36\"\n",
    "}\n",
    "for ticker in dow_jones_companies:\n",
    "    url = f\"https://query1.finance.yahoo.com/v7/finance/download/{ticker}?period1=1546300800&period2=1577836800&interval=1d&events=history&includeAdjustedClose=true\"\n",
    "    response = session.get(url, headers=headers)\n",
    "    tickes_data[ticker] =  response.text\n",
    "\n"
   ]
  },
  {
   "cell_type": "code",
   "execution_count": 256,
   "metadata": {},
   "outputs": [],
   "source": [
    "tickers = []\n",
    "for ticker, data in tickes_data.items():\n",
    "    df = pd.read_csv(StringIO(data), parse_dates=['Date'])\n",
    "    df.insert(0, 'Ticker', ticker)\n",
    "    tickers.append(df)\n",
    "\n",
    "data = pd.concat(tickers)\n",
    "\n"
   ]
  },
  {
   "cell_type": "code",
   "execution_count": 140,
   "metadata": {},
   "outputs": [
    {
     "data": {
      "text/html": [
       "<div>\n",
       "<style scoped>\n",
       "    .dataframe tbody tr th:only-of-type {\n",
       "        vertical-align: middle;\n",
       "    }\n",
       "\n",
       "    .dataframe tbody tr th {\n",
       "        vertical-align: top;\n",
       "    }\n",
       "\n",
       "    .dataframe thead th {\n",
       "        text-align: right;\n",
       "    }\n",
       "</style>\n",
       "<table border=\"1\" class=\"dataframe\">\n",
       "  <thead>\n",
       "    <tr style=\"text-align: right;\">\n",
       "      <th></th>\n",
       "      <th>Ticker</th>\n",
       "      <th>Date</th>\n",
       "      <th>Open</th>\n",
       "      <th>High</th>\n",
       "      <th>Low</th>\n",
       "      <th>Close</th>\n",
       "      <th>Adj Close</th>\n",
       "      <th>Volume</th>\n",
       "    </tr>\n",
       "  </thead>\n",
       "  <tbody>\n",
       "    <tr>\n",
       "      <th>0</th>\n",
       "      <td>AXP</td>\n",
       "      <td>2019-01-02</td>\n",
       "      <td>93.910004</td>\n",
       "      <td>96.269997</td>\n",
       "      <td>93.769997</td>\n",
       "      <td>95.680000</td>\n",
       "      <td>91.575760</td>\n",
       "      <td>4175400</td>\n",
       "    </tr>\n",
       "    <tr>\n",
       "      <th>1</th>\n",
       "      <td>AXP</td>\n",
       "      <td>2019-01-03</td>\n",
       "      <td>94.790001</td>\n",
       "      <td>95.180000</td>\n",
       "      <td>93.230003</td>\n",
       "      <td>93.430000</td>\n",
       "      <td>89.788254</td>\n",
       "      <td>4776600</td>\n",
       "    </tr>\n",
       "    <tr>\n",
       "      <th>2</th>\n",
       "      <td>AXP</td>\n",
       "      <td>2019-01-04</td>\n",
       "      <td>95.370003</td>\n",
       "      <td>98.349998</td>\n",
       "      <td>94.900002</td>\n",
       "      <td>97.639999</td>\n",
       "      <td>93.834167</td>\n",
       "      <td>4637200</td>\n",
       "    </tr>\n",
       "    <tr>\n",
       "      <th>3</th>\n",
       "      <td>AXP</td>\n",
       "      <td>2019-01-07</td>\n",
       "      <td>97.769997</td>\n",
       "      <td>98.919998</td>\n",
       "      <td>97.019997</td>\n",
       "      <td>98.169998</td>\n",
       "      <td>94.343483</td>\n",
       "      <td>3289000</td>\n",
       "    </tr>\n",
       "    <tr>\n",
       "      <th>4</th>\n",
       "      <td>AXP</td>\n",
       "      <td>2019-01-08</td>\n",
       "      <td>98.690002</td>\n",
       "      <td>99.519997</td>\n",
       "      <td>97.519997</td>\n",
       "      <td>98.650002</td>\n",
       "      <td>94.804771</td>\n",
       "      <td>3227200</td>\n",
       "    </tr>\n",
       "    <tr>\n",
       "      <th>...</th>\n",
       "      <td>...</td>\n",
       "      <td>...</td>\n",
       "      <td>...</td>\n",
       "      <td>...</td>\n",
       "      <td>...</td>\n",
       "      <td>...</td>\n",
       "      <td>...</td>\n",
       "      <td>...</td>\n",
       "    </tr>\n",
       "    <tr>\n",
       "      <th>194</th>\n",
       "      <td>DOW</td>\n",
       "      <td>2019-12-24</td>\n",
       "      <td>55.000000</td>\n",
       "      <td>55.250000</td>\n",
       "      <td>54.650002</td>\n",
       "      <td>54.900002</td>\n",
       "      <td>49.983463</td>\n",
       "      <td>926200</td>\n",
       "    </tr>\n",
       "    <tr>\n",
       "      <th>195</th>\n",
       "      <td>DOW</td>\n",
       "      <td>2019-12-26</td>\n",
       "      <td>54.980000</td>\n",
       "      <td>55.230000</td>\n",
       "      <td>54.520000</td>\n",
       "      <td>55.220001</td>\n",
       "      <td>50.274811</td>\n",
       "      <td>1909600</td>\n",
       "    </tr>\n",
       "    <tr>\n",
       "      <th>196</th>\n",
       "      <td>DOW</td>\n",
       "      <td>2019-12-27</td>\n",
       "      <td>55.290001</td>\n",
       "      <td>55.549999</td>\n",
       "      <td>54.720001</td>\n",
       "      <td>54.830002</td>\n",
       "      <td>49.919735</td>\n",
       "      <td>1688500</td>\n",
       "    </tr>\n",
       "    <tr>\n",
       "      <th>197</th>\n",
       "      <td>DOW</td>\n",
       "      <td>2019-12-30</td>\n",
       "      <td>54.860001</td>\n",
       "      <td>55.049999</td>\n",
       "      <td>54.240002</td>\n",
       "      <td>54.340000</td>\n",
       "      <td>49.473610</td>\n",
       "      <td>1943300</td>\n",
       "    </tr>\n",
       "    <tr>\n",
       "      <th>198</th>\n",
       "      <td>DOW</td>\n",
       "      <td>2019-12-31</td>\n",
       "      <td>54.020000</td>\n",
       "      <td>54.779999</td>\n",
       "      <td>53.930000</td>\n",
       "      <td>54.730000</td>\n",
       "      <td>49.828693</td>\n",
       "      <td>2145700</td>\n",
       "    </tr>\n",
       "  </tbody>\n",
       "</table>\n",
       "<p>7507 rows × 8 columns</p>\n",
       "</div>"
      ],
      "text/plain": [
       "    Ticker       Date       Open  ...      Close  Adj Close   Volume\n",
       "0      AXP 2019-01-02  93.910004  ...  95.680000  91.575760  4175400\n",
       "1      AXP 2019-01-03  94.790001  ...  93.430000  89.788254  4776600\n",
       "2      AXP 2019-01-04  95.370003  ...  97.639999  93.834167  4637200\n",
       "3      AXP 2019-01-07  97.769997  ...  98.169998  94.343483  3289000\n",
       "4      AXP 2019-01-08  98.690002  ...  98.650002  94.804771  3227200\n",
       "..     ...        ...        ...  ...        ...        ...      ...\n",
       "194    DOW 2019-12-24  55.000000  ...  54.900002  49.983463   926200\n",
       "195    DOW 2019-12-26  54.980000  ...  55.220001  50.274811  1909600\n",
       "196    DOW 2019-12-27  55.290001  ...  54.830002  49.919735  1688500\n",
       "197    DOW 2019-12-30  54.860001  ...  54.340000  49.473610  1943300\n",
       "198    DOW 2019-12-31  54.020000  ...  54.730000  49.828693  2145700\n",
       "\n",
       "[7507 rows x 8 columns]"
      ]
     },
     "execution_count": 140,
     "metadata": {},
     "output_type": "execute_result"
    }
   ],
   "source": [
    "data"
   ]
  },
  {
   "cell_type": "code",
   "execution_count": 30,
   "metadata": {},
   "outputs": [
    {
     "data": {
      "text/plain": [
       "30"
      ]
     },
     "execution_count": 30,
     "metadata": {},
     "output_type": "execute_result"
    }
   ],
   "source": [
    "len(dow_jones_companies)"
   ]
  },
  {
   "cell_type": "code",
   "execution_count": null,
   "metadata": {},
   "outputs": [],
   "source": [
    "#Open2019 = data.query('''Date == \"2019-01-02\"''').reset_index().set_index(['Ticker'])i\n",
    "\n",
    "gb_ticker = data.groupby('Ticker')\n",
    "min_dates = gb_ticker['Date'].min().reset_index().set_index(['Date','Ticker'])\n",
    "max_dates = gb_ticker['Date'].max().reset_index().set_index(['Date','Ticker'])\n",
    "min_dates"
   ]
  },
  {
   "cell_type": "code",
   "execution_count": 298,
   "metadata": {},
   "outputs": [],
   "source": [
    "Close2019 = idata.loc[max_dates.index]\n",
    "Open2019 = idata.loc[min_dates.index]"
   ]
  },
  {
   "cell_type": "code",
   "execution_count": 6,
   "metadata": {},
   "outputs": [
    {
     "data": {
      "text/plain": [
       "'1x^2+2.400000x+3.000000'"
      ]
     },
     "execution_count": 6,
     "metadata": {},
     "output_type": "execute_result"
    }
   ],
   "source": [
    "a = 1\n",
    "b = 2.4\n",
    "c = 3\n",
    "legend=f'{a}x^2{b:+f}x{c:+f}'\n",
    "legend"
   ]
  },
  {
   "cell_type": "code",
   "execution_count": 300,
   "metadata": {},
   "outputs": [],
   "source": [
    "Open2019.reset_index(inplace=True)\n",
    "Open2019.set_index(['Ticker'], inplace=True)\n",
    "Close2019.reset_index(inplace=True)\n",
    "Close2019.set_index(['Ticker'], inplace=True)"
   ]
  },
  {
   "cell_type": "code",
   "execution_count": 302,
   "metadata": {},
   "outputs": [
    {
     "data": {
      "text/plain": [
       "23.664689827554984"
      ]
     },
     "execution_count": 302,
     "metadata": {},
     "output_type": "execute_result"
    }
   ],
   "source": [
    "np.mean((Close2019.Close / Open2019.Open - 1) * 100)"
   ]
  },
  {
   "cell_type": "code",
   "execution_count": 269,
   "metadata": {},
   "outputs": [
    {
     "data": {
      "text/html": [
       "<div>\n",
       "<style scoped>\n",
       "    .dataframe tbody tr th:only-of-type {\n",
       "        vertical-align: middle;\n",
       "    }\n",
       "\n",
       "    .dataframe tbody tr th {\n",
       "        vertical-align: top;\n",
       "    }\n",
       "\n",
       "    .dataframe thead th {\n",
       "        text-align: right;\n",
       "    }\n",
       "</style>\n",
       "<table border=\"1\" class=\"dataframe\">\n",
       "  <thead>\n",
       "    <tr style=\"text-align: right;\">\n",
       "      <th></th>\n",
       "      <th>index</th>\n",
       "      <th>Date</th>\n",
       "      <th>Open</th>\n",
       "      <th>High</th>\n",
       "      <th>Low</th>\n",
       "      <th>Close</th>\n",
       "      <th>Adj Close</th>\n",
       "      <th>Volume</th>\n",
       "      <th>Change</th>\n",
       "    </tr>\n",
       "    <tr>\n",
       "      <th>Ticker</th>\n",
       "      <th></th>\n",
       "      <th></th>\n",
       "      <th></th>\n",
       "      <th></th>\n",
       "      <th></th>\n",
       "      <th></th>\n",
       "      <th></th>\n",
       "      <th></th>\n",
       "      <th></th>\n",
       "    </tr>\n",
       "  </thead>\n",
       "  <tbody>\n",
       "    <tr>\n",
       "      <th>AXP</th>\n",
       "      <td>0</td>\n",
       "      <td>2019-01-02</td>\n",
       "      <td>93.910004</td>\n",
       "      <td>96.269997</td>\n",
       "      <td>93.769997</td>\n",
       "      <td>124.489998</td>\n",
       "      <td>91.575760</td>\n",
       "      <td>4175400</td>\n",
       "      <td>32.563085</td>\n",
       "    </tr>\n",
       "    <tr>\n",
       "      <th>AAPL</th>\n",
       "      <td>0</td>\n",
       "      <td>2019-01-02</td>\n",
       "      <td>38.722500</td>\n",
       "      <td>39.712502</td>\n",
       "      <td>38.557499</td>\n",
       "      <td>73.412498</td>\n",
       "      <td>38.326298</td>\n",
       "      <td>148158800</td>\n",
       "      <td>89.586153</td>\n",
       "    </tr>\n",
       "    <tr>\n",
       "      <th>BA</th>\n",
       "      <td>0</td>\n",
       "      <td>2019-01-02</td>\n",
       "      <td>316.190002</td>\n",
       "      <td>323.950012</td>\n",
       "      <td>313.709991</td>\n",
       "      <td>325.760010</td>\n",
       "      <td>314.645142</td>\n",
       "      <td>3292200</td>\n",
       "      <td>3.026664</td>\n",
       "    </tr>\n",
       "    <tr>\n",
       "      <th>CAT</th>\n",
       "      <td>0</td>\n",
       "      <td>2019-01-02</td>\n",
       "      <td>124.029999</td>\n",
       "      <td>127.879997</td>\n",
       "      <td>123.000000</td>\n",
       "      <td>147.679993</td>\n",
       "      <td>116.861320</td>\n",
       "      <td>4783200</td>\n",
       "      <td>19.067963</td>\n",
       "    </tr>\n",
       "    <tr>\n",
       "      <th>CSCO</th>\n",
       "      <td>0</td>\n",
       "      <td>2019-01-02</td>\n",
       "      <td>42.279999</td>\n",
       "      <td>43.200001</td>\n",
       "      <td>42.209999</td>\n",
       "      <td>47.959999</td>\n",
       "      <td>39.231705</td>\n",
       "      <td>23833500</td>\n",
       "      <td>13.434248</td>\n",
       "    </tr>\n",
       "    <tr>\n",
       "      <th>CVX</th>\n",
       "      <td>0</td>\n",
       "      <td>2019-01-02</td>\n",
       "      <td>107.339996</td>\n",
       "      <td>111.680000</td>\n",
       "      <td>107.099998</td>\n",
       "      <td>120.510002</td>\n",
       "      <td>95.651024</td>\n",
       "      <td>6384800</td>\n",
       "      <td>12.269430</td>\n",
       "    </tr>\n",
       "    <tr>\n",
       "      <th>XOM</th>\n",
       "      <td>0</td>\n",
       "      <td>2019-01-02</td>\n",
       "      <td>67.349998</td>\n",
       "      <td>69.870003</td>\n",
       "      <td>67.260002</td>\n",
       "      <td>69.779999</td>\n",
       "      <td>58.018692</td>\n",
       "      <td>16727200</td>\n",
       "      <td>3.608019</td>\n",
       "    </tr>\n",
       "    <tr>\n",
       "      <th>GS</th>\n",
       "      <td>0</td>\n",
       "      <td>2019-01-02</td>\n",
       "      <td>164.330002</td>\n",
       "      <td>172.250000</td>\n",
       "      <td>163.350006</td>\n",
       "      <td>229.929993</td>\n",
       "      <td>162.605087</td>\n",
       "      <td>3999400</td>\n",
       "      <td>39.919668</td>\n",
       "    </tr>\n",
       "    <tr>\n",
       "      <th>HD</th>\n",
       "      <td>0</td>\n",
       "      <td>2019-01-02</td>\n",
       "      <td>169.710007</td>\n",
       "      <td>173.179993</td>\n",
       "      <td>169.050003</td>\n",
       "      <td>218.380005</td>\n",
       "      <td>161.279037</td>\n",
       "      <td>4242900</td>\n",
       "      <td>28.678331</td>\n",
       "    </tr>\n",
       "    <tr>\n",
       "      <th>IBM</th>\n",
       "      <td>0</td>\n",
       "      <td>2019-01-02</td>\n",
       "      <td>107.084129</td>\n",
       "      <td>110.879539</td>\n",
       "      <td>106.778206</td>\n",
       "      <td>128.145309</td>\n",
       "      <td>95.081245</td>\n",
       "      <td>4434935</td>\n",
       "      <td>19.667882</td>\n",
       "    </tr>\n",
       "    <tr>\n",
       "      <th>INTC</th>\n",
       "      <td>0</td>\n",
       "      <td>2019-01-02</td>\n",
       "      <td>45.959999</td>\n",
       "      <td>47.470001</td>\n",
       "      <td>45.770000</td>\n",
       "      <td>59.849998</td>\n",
       "      <td>43.686810</td>\n",
       "      <td>18774600</td>\n",
       "      <td>30.221931</td>\n",
       "    </tr>\n",
       "    <tr>\n",
       "      <th>JNJ</th>\n",
       "      <td>0</td>\n",
       "      <td>2019-01-02</td>\n",
       "      <td>128.130005</td>\n",
       "      <td>128.380005</td>\n",
       "      <td>126.279999</td>\n",
       "      <td>145.869995</td>\n",
       "      <td>117.985733</td>\n",
       "      <td>7631700</td>\n",
       "      <td>13.845305</td>\n",
       "    </tr>\n",
       "    <tr>\n",
       "      <th>KO</th>\n",
       "      <td>0</td>\n",
       "      <td>2019-01-02</td>\n",
       "      <td>46.939999</td>\n",
       "      <td>47.220001</td>\n",
       "      <td>46.560001</td>\n",
       "      <td>55.349998</td>\n",
       "      <td>42.969891</td>\n",
       "      <td>11603700</td>\n",
       "      <td>17.916487</td>\n",
       "    </tr>\n",
       "    <tr>\n",
       "      <th>JPM</th>\n",
       "      <td>0</td>\n",
       "      <td>2019-01-02</td>\n",
       "      <td>95.949997</td>\n",
       "      <td>99.779999</td>\n",
       "      <td>95.940002</td>\n",
       "      <td>139.399994</td>\n",
       "      <td>90.652054</td>\n",
       "      <td>15670900</td>\n",
       "      <td>45.284000</td>\n",
       "    </tr>\n",
       "    <tr>\n",
       "      <th>MCD</th>\n",
       "      <td>0</td>\n",
       "      <td>2019-01-02</td>\n",
       "      <td>175.410004</td>\n",
       "      <td>176.300003</td>\n",
       "      <td>174.169998</td>\n",
       "      <td>197.610001</td>\n",
       "      <td>164.881241</td>\n",
       "      <td>2571500</td>\n",
       "      <td>12.656061</td>\n",
       "    </tr>\n",
       "    <tr>\n",
       "      <th>MMM</th>\n",
       "      <td>0</td>\n",
       "      <td>2019-01-02</td>\n",
       "      <td>187.820007</td>\n",
       "      <td>190.990005</td>\n",
       "      <td>186.699997</td>\n",
       "      <td>176.419998</td>\n",
       "      <td>172.615326</td>\n",
       "      <td>2475200</td>\n",
       "      <td>-6.069646</td>\n",
       "    </tr>\n",
       "    <tr>\n",
       "      <th>MRK</th>\n",
       "      <td>0</td>\n",
       "      <td>2019-01-02</td>\n",
       "      <td>71.841606</td>\n",
       "      <td>72.509544</td>\n",
       "      <td>71.183205</td>\n",
       "      <td>86.784348</td>\n",
       "      <td>66.292549</td>\n",
       "      <td>15120125</td>\n",
       "      <td>20.799566</td>\n",
       "    </tr>\n",
       "    <tr>\n",
       "      <th>MSFT</th>\n",
       "      <td>0</td>\n",
       "      <td>2019-01-02</td>\n",
       "      <td>99.550003</td>\n",
       "      <td>101.750000</td>\n",
       "      <td>98.940002</td>\n",
       "      <td>157.699997</td>\n",
       "      <td>97.782425</td>\n",
       "      <td>35329300</td>\n",
       "      <td>58.412850</td>\n",
       "    </tr>\n",
       "    <tr>\n",
       "      <th>NKE</th>\n",
       "      <td>0</td>\n",
       "      <td>2019-01-02</td>\n",
       "      <td>72.790001</td>\n",
       "      <td>74.639999</td>\n",
       "      <td>72.190002</td>\n",
       "      <td>101.309998</td>\n",
       "      <td>72.179802</td>\n",
       "      <td>6762700</td>\n",
       "      <td>39.181202</td>\n",
       "    </tr>\n",
       "    <tr>\n",
       "      <th>PFE</th>\n",
       "      <td>0</td>\n",
       "      <td>2019-01-02</td>\n",
       "      <td>40.910816</td>\n",
       "      <td>41.271347</td>\n",
       "      <td>40.455406</td>\n",
       "      <td>37.172676</td>\n",
       "      <td>36.581047</td>\n",
       "      <td>26430315</td>\n",
       "      <td>-9.137290</td>\n",
       "    </tr>\n",
       "    <tr>\n",
       "      <th>PG</th>\n",
       "      <td>0</td>\n",
       "      <td>2019-01-02</td>\n",
       "      <td>91.029999</td>\n",
       "      <td>91.389999</td>\n",
       "      <td>89.930000</td>\n",
       "      <td>124.900002</td>\n",
       "      <td>84.517365</td>\n",
       "      <td>9843900</td>\n",
       "      <td>37.207518</td>\n",
       "    </tr>\n",
       "    <tr>\n",
       "      <th>TRV</th>\n",
       "      <td>0</td>\n",
       "      <td>2019-01-02</td>\n",
       "      <td>117.489998</td>\n",
       "      <td>118.190002</td>\n",
       "      <td>116.330002</td>\n",
       "      <td>136.949997</td>\n",
       "      <td>109.816277</td>\n",
       "      <td>1793400</td>\n",
       "      <td>16.563111</td>\n",
       "    </tr>\n",
       "    <tr>\n",
       "      <th>UNH</th>\n",
       "      <td>0</td>\n",
       "      <td>2019-01-02</td>\n",
       "      <td>245.000000</td>\n",
       "      <td>246.350006</td>\n",
       "      <td>241.470001</td>\n",
       "      <td>293.980011</td>\n",
       "      <td>233.055405</td>\n",
       "      <td>4063600</td>\n",
       "      <td>19.991841</td>\n",
       "    </tr>\n",
       "    <tr>\n",
       "      <th>RTX</th>\n",
       "      <td>0</td>\n",
       "      <td>2019-01-02</td>\n",
       "      <td>66.179985</td>\n",
       "      <td>68.187538</td>\n",
       "      <td>65.601006</td>\n",
       "      <td>94.247955</td>\n",
       "      <td>63.261887</td>\n",
       "      <td>9361752</td>\n",
       "      <td>42.411569</td>\n",
       "    </tr>\n",
       "    <tr>\n",
       "      <th>VZ</th>\n",
       "      <td>0</td>\n",
       "      <td>2019-01-02</td>\n",
       "      <td>56.160000</td>\n",
       "      <td>56.160000</td>\n",
       "      <td>55.279999</td>\n",
       "      <td>61.400002</td>\n",
       "      <td>49.260269</td>\n",
       "      <td>13969700</td>\n",
       "      <td>9.330488</td>\n",
       "    </tr>\n",
       "    <tr>\n",
       "      <th>V</th>\n",
       "      <td>0</td>\n",
       "      <td>2019-01-02</td>\n",
       "      <td>130.000000</td>\n",
       "      <td>133.740005</td>\n",
       "      <td>129.600006</td>\n",
       "      <td>187.899994</td>\n",
       "      <td>130.463150</td>\n",
       "      <td>8788000</td>\n",
       "      <td>44.538457</td>\n",
       "    </tr>\n",
       "    <tr>\n",
       "      <th>WBA</th>\n",
       "      <td>0</td>\n",
       "      <td>2019-01-02</td>\n",
       "      <td>67.199997</td>\n",
       "      <td>68.459999</td>\n",
       "      <td>66.690002</td>\n",
       "      <td>58.959999</td>\n",
       "      <td>60.846279</td>\n",
       "      <td>5528100</td>\n",
       "      <td>-12.261902</td>\n",
       "    </tr>\n",
       "    <tr>\n",
       "      <th>WMT</th>\n",
       "      <td>0</td>\n",
       "      <td>2019-01-02</td>\n",
       "      <td>91.639999</td>\n",
       "      <td>93.650002</td>\n",
       "      <td>91.639999</td>\n",
       "      <td>118.839996</td>\n",
       "      <td>88.933060</td>\n",
       "      <td>8152700</td>\n",
       "      <td>29.681359</td>\n",
       "    </tr>\n",
       "    <tr>\n",
       "      <th>DIS</th>\n",
       "      <td>0</td>\n",
       "      <td>2019-01-02</td>\n",
       "      <td>108.099998</td>\n",
       "      <td>109.139999</td>\n",
       "      <td>107.730003</td>\n",
       "      <td>144.630005</td>\n",
       "      <td>107.654335</td>\n",
       "      <td>9723500</td>\n",
       "      <td>33.792792</td>\n",
       "    </tr>\n",
       "  </tbody>\n",
       "</table>\n",
       "</div>"
      ],
      "text/plain": [
       "        index        Date        Open  ...   Adj Close     Volume     Change\n",
       "Ticker                                 ...                                  \n",
       "AXP         0  2019-01-02   93.910004  ...   91.575760    4175400  32.563085\n",
       "AAPL        0  2019-01-02   38.722500  ...   38.326298  148158800  89.586153\n",
       "BA          0  2019-01-02  316.190002  ...  314.645142    3292200   3.026664\n",
       "CAT         0  2019-01-02  124.029999  ...  116.861320    4783200  19.067963\n",
       "CSCO        0  2019-01-02   42.279999  ...   39.231705   23833500  13.434248\n",
       "CVX         0  2019-01-02  107.339996  ...   95.651024    6384800  12.269430\n",
       "XOM         0  2019-01-02   67.349998  ...   58.018692   16727200   3.608019\n",
       "GS          0  2019-01-02  164.330002  ...  162.605087    3999400  39.919668\n",
       "HD          0  2019-01-02  169.710007  ...  161.279037    4242900  28.678331\n",
       "IBM         0  2019-01-02  107.084129  ...   95.081245    4434935  19.667882\n",
       "INTC        0  2019-01-02   45.959999  ...   43.686810   18774600  30.221931\n",
       "JNJ         0  2019-01-02  128.130005  ...  117.985733    7631700  13.845305\n",
       "KO          0  2019-01-02   46.939999  ...   42.969891   11603700  17.916487\n",
       "JPM         0  2019-01-02   95.949997  ...   90.652054   15670900  45.284000\n",
       "MCD         0  2019-01-02  175.410004  ...  164.881241    2571500  12.656061\n",
       "MMM         0  2019-01-02  187.820007  ...  172.615326    2475200  -6.069646\n",
       "MRK         0  2019-01-02   71.841606  ...   66.292549   15120125  20.799566\n",
       "MSFT        0  2019-01-02   99.550003  ...   97.782425   35329300  58.412850\n",
       "NKE         0  2019-01-02   72.790001  ...   72.179802    6762700  39.181202\n",
       "PFE         0  2019-01-02   40.910816  ...   36.581047   26430315  -9.137290\n",
       "PG          0  2019-01-02   91.029999  ...   84.517365    9843900  37.207518\n",
       "TRV         0  2019-01-02  117.489998  ...  109.816277    1793400  16.563111\n",
       "UNH         0  2019-01-02  245.000000  ...  233.055405    4063600  19.991841\n",
       "RTX         0  2019-01-02   66.179985  ...   63.261887    9361752  42.411569\n",
       "VZ          0  2019-01-02   56.160000  ...   49.260269   13969700   9.330488\n",
       "V           0  2019-01-02  130.000000  ...  130.463150    8788000  44.538457\n",
       "WBA         0  2019-01-02   67.199997  ...   60.846279    5528100 -12.261902\n",
       "WMT         0  2019-01-02   91.639999  ...   88.933060    8152700  29.681359\n",
       "DIS         0  2019-01-02  108.099998  ...  107.654335    9723500  33.792792\n",
       "\n",
       "[29 rows x 9 columns]"
      ]
     },
     "execution_count": 269,
     "metadata": {},
     "output_type": "execute_result"
    }
   ],
   "source": [
    "Open2019['Close'] = Close2019.loc[Open2019.index].Close\n",
    "Open2019['Change'] = (Open2019.Close / Open2019.Open - 1) * 100\n",
    "Open2019"
   ]
  },
  {
   "cell_type": "code",
   "execution_count": 1,
   "metadata": {},
   "outputs": [],
   "source": [
    "from selenium import webdriver\n",
    "from selenium.webdriver.common.keys import Keys\n",
    "\n"
   ]
  },
  {
   "cell_type": "code",
   "execution_count": 2,
   "metadata": {},
   "outputs": [],
   "source": [
    "driver = webdriver.Chrome(executable_path='./chromedriver')\n",
    "\n"
   ]
  },
  {
   "cell_type": "code",
   "execution_count": 3,
   "metadata": {},
   "outputs": [],
   "source": [
    "driver.get(\"http://finance.yahoo.com\")"
   ]
  },
  {
   "cell_type": "code",
   "execution_count": 9,
   "metadata": {},
   "outputs": [],
   "source": [
    "driver.find_element_by_tag_name('html').send_keys(Keys.PAGE_DOWN)\n"
   ]
  },
  {
   "cell_type": "code",
   "execution_count": 29,
   "metadata": {},
   "outputs": [],
   "source": [
    "driver.close()"
   ]
  },
  {
   "cell_type": "markdown",
   "metadata": {},
   "source": [
    "<br><br>\n",
    "\n",
    "### Questions\n",
    "\n",
    "<br><br>\n",
    "\n",
    "**Question 1.** What is the average change of price over the year (in %)?\n",
    "\n",
    "*Note 1*. The opening price is the price at which a stock first trades upon the opening of an exchange on a trading day.\n",
    "\n",
    "*Note 2*. The closing price for any stock is the final price at which it trades during regular market hours on any given day.\n",
    "\n",
    "*Note 3*. Here by the price change we going to mean a ratio of a closing price in the last day of the period to an opening price in the first day of that period, subtracted one and multiplied by 100.\n",
    "\n",
    "Example: if a price of a stock in day 1 opened at \\\\$100, and its close price in the last day was \\\\$120, then the price change during the period is: $$\\left(\\dfrac{120}{100}-1\\right) * 100 = (1.2 - 1) * 100=20.$$\n",
    "\n",
    "The price grew by 20%."
   ]
  },
  {
   "cell_type": "code",
   "execution_count": 250,
   "metadata": {},
   "outputs": [],
   "source": [
    "data['Change'] = (data.Close/data.Open - 1) * 100"
   ]
  },
  {
   "cell_type": "code",
   "execution_count": 303,
   "metadata": {},
   "outputs": [
    {
     "data": {
      "text/plain": [
       "23.664689827554984"
      ]
     },
     "execution_count": 303,
     "metadata": {},
     "output_type": "execute_result"
    }
   ],
   "source": [
    "answer_part_1 = np.mean((Close2019.Close / Open2019.Open - 1) * 100)\n",
    "answer_part_1"
   ]
  },
  {
   "cell_type": "code",
   "execution_count": 304,
   "metadata": {},
   "outputs": [],
   "source": [
    "# Setting our answers to grader. Do not change!\n",
    "grader.set_answer(\"RbP2k\", answer_part_1)"
   ]
  },
  {
   "cell_type": "markdown",
   "metadata": {},
   "source": [
    "<br>\n",
    "\n",
    "**Question 2.** What company's stock price grew the most (in %)? Enter ticker of the company as an answer)"
   ]
  },
  {
   "cell_type": "code",
   "execution_count": 102,
   "metadata": {},
   "outputs": [
    {
     "data": {
      "text/plain": [
       "'AAPL'"
      ]
     },
     "execution_count": 102,
     "metadata": {},
     "output_type": "execute_result"
    }
   ],
   "source": [
    "answer_part_2 = Open2019.idxmax()['Change']\n",
    "answer_part_2"
   ]
  },
  {
   "cell_type": "code",
   "execution_count": 103,
   "metadata": {},
   "outputs": [],
   "source": [
    "# Setting our answers to grader. Do not change!\n",
    "grader.set_answer(\"LLRai\", answer_part_2)"
   ]
  },
  {
   "cell_type": "markdown",
   "metadata": {},
   "source": [
    "<br>\n",
    "\n",
    "**Question 3.** What company's stock lost in price the most (in %)? Enter ticker of the company as an answer"
   ]
  },
  {
   "cell_type": "code",
   "execution_count": 104,
   "metadata": {},
   "outputs": [
    {
     "data": {
      "text/plain": [
       "'WBA'"
      ]
     },
     "execution_count": 104,
     "metadata": {},
     "output_type": "execute_result"
    }
   ],
   "source": [
    "answer_part_3 = Open2019.idxmin()['Change']\n",
    "answer_part_3"
   ]
  },
  {
   "cell_type": "code",
   "execution_count": 105,
   "metadata": {},
   "outputs": [],
   "source": [
    "# Setting our answers to grader. Do not change!\n",
    "grader.set_answer(\"hgIbw\", answer_part_3)"
   ]
  },
  {
   "cell_type": "markdown",
   "metadata": {},
   "source": [
    "<br>\n",
    "\n",
    "**Question 4.** What company had the largest summary volume over the year? Enter ticker of the company as an answer"
   ]
  },
  {
   "cell_type": "code",
   "execution_count": 107,
   "metadata": {},
   "outputs": [
    {
     "data": {
      "text/plain": [
       "'AAPL'"
      ]
     },
     "execution_count": 107,
     "metadata": {},
     "output_type": "execute_result"
    }
   ],
   "source": [
    "answer_part_4 = data.groupby('Ticker')['Volume'].sum().idxmax()\n",
    "answer_part_4"
   ]
  },
  {
   "cell_type": "code",
   "execution_count": 108,
   "metadata": {},
   "outputs": [],
   "source": [
    "# Setting our answers to grader. Do not change!\n",
    "grader.set_answer(\"Tx3OG\", answer_part_4)"
   ]
  },
  {
   "cell_type": "markdown",
   "metadata": {},
   "source": [
    "<br>\n",
    "\n",
    "**Question 5.** What is the biggest stock price daily increase (in %)? Enter the number "
   ]
  },
  {
   "cell_type": "code",
   "execution_count": 117,
   "metadata": {},
   "outputs": [
    {
     "data": {
      "text/plain": [
       "'BA'"
      ]
     },
     "execution_count": 117,
     "metadata": {},
     "output_type": "execute_result"
    }
   ],
   "source": [
    "data['Change'] = (data['Close'] / data['Open'] - 1) * 100\n",
    "idata = data.set_index(['Date', 'Ticker'])\n",
    "idata.idxmax()['Change'][1]"
   ]
  },
  {
   "cell_type": "code",
   "execution_count": 115,
   "metadata": {},
   "outputs": [
    {
     "data": {
      "text/plain": [
       "Open         3.712700e+02\n",
       "High         4.026700e+02\n",
       "Low          3.655500e+02\n",
       "Close        4.000100e+02\n",
       "Adj Close    3.906411e+02\n",
       "Volume       3.474220e+07\n",
       "Change       7.741003e+00\n",
       "Name: (2019-03-11, BA), dtype: float64"
      ]
     },
     "execution_count": 115,
     "metadata": {},
     "output_type": "execute_result"
    }
   ],
   "source": [
    "idata.loc[('2019-03-11', 'BA')]"
   ]
  },
  {
   "cell_type": "code",
   "execution_count": 116,
   "metadata": {},
   "outputs": [
    {
     "data": {
      "text/plain": [
       "7.741003003612024"
      ]
     },
     "execution_count": 116,
     "metadata": {},
     "output_type": "execute_result"
    }
   ],
   "source": [
    "idata['Change'].max()"
   ]
  },
  {
   "cell_type": "code",
   "execution_count": 127,
   "metadata": {},
   "outputs": [
    {
     "data": {
      "text/plain": [
       "7.741003003612024"
      ]
     },
     "execution_count": 127,
     "metadata": {},
     "output_type": "execute_result"
    }
   ],
   "source": [
    "\n",
    "answer_part_5 = idata.loc[idata.idxmax()['Change']]['Change']\n",
    "answer_part_5"
   ]
  },
  {
   "cell_type": "code",
   "execution_count": 128,
   "metadata": {},
   "outputs": [],
   "source": [
    "# Setting our answers to grader. Do not change!\n",
    "grader.set_answer(\"Y05pG\", answer_part_5)"
   ]
  },
  {
   "cell_type": "markdown",
   "metadata": {},
   "source": [
    "<br><br>\n",
    "\n",
    "**Question 6.** What is the company that had the biggest stock price daily increase? Enter ticker of the company as an answer"
   ]
  },
  {
   "cell_type": "code",
   "execution_count": 122,
   "metadata": {},
   "outputs": [
    {
     "data": {
      "text/plain": [
       "'BA'"
      ]
     },
     "execution_count": 122,
     "metadata": {},
     "output_type": "execute_result"
    }
   ],
   "source": [
    "idata['PriceChange'] = idata['Open'] - idata['Close']\n",
    "idata.idxmax()['PriceChange'][1]"
   ]
  },
  {
   "cell_type": "code",
   "execution_count": 121,
   "metadata": {},
   "outputs": [
    {
     "data": {
      "text/plain": [
       "Open           3.690000e+02\n",
       "High           3.693500e+02\n",
       "Low            3.440000e+02\n",
       "Close          3.440000e+02\n",
       "Adj Close      3.399813e+02\n",
       "Volume         1.354430e+07\n",
       "Change        -6.775068e+00\n",
       "PriceChange    2.500000e+01\n",
       "Name: (2019-10-18, BA), dtype: float64"
      ]
     },
     "execution_count": 121,
     "metadata": {},
     "output_type": "execute_result"
    }
   ],
   "source": [
    "idata.loc[('2019-10-18', 'BA')]"
   ]
  },
  {
   "cell_type": "code",
   "execution_count": 129,
   "metadata": {},
   "outputs": [
    {
     "data": {
      "text/plain": [
       "'BA'"
      ]
     },
     "execution_count": 129,
     "metadata": {},
     "output_type": "execute_result"
    }
   ],
   "source": [
    "answer_part_6 = idata.idxmax()['Change'][1]\n",
    "answer_part_6"
   ]
  },
  {
   "cell_type": "code",
   "execution_count": 130,
   "metadata": {},
   "outputs": [],
   "source": [
    "# Setting our answers to grader. Do not change!\n",
    "grader.set_answer(\"lFPeF\", answer_part_6)"
   ]
  },
  {
   "cell_type": "markdown",
   "metadata": {},
   "source": [
    "<br>\n",
    "\n",
    "**Question 7.** What is the biggest stock price daily decrease (in %)? Enter the number"
   ]
  },
  {
   "cell_type": "code",
   "execution_count": 132,
   "metadata": {},
   "outputs": [
    {
     "data": {
      "text/plain": [
       "-7.16355966479475"
      ]
     },
     "execution_count": 132,
     "metadata": {},
     "output_type": "execute_result"
    }
   ],
   "source": [
    "answer_part_7 = idata.loc[idata.idxmin()['Change']]['Change']\n",
    "answer_part_7"
   ]
  },
  {
   "cell_type": "code",
   "execution_count": 133,
   "metadata": {},
   "outputs": [],
   "source": [
    "# Setting our answers to grader. Do not change!\n",
    "grader.set_answer(\"htUtf\", answer_part_7)"
   ]
  },
  {
   "cell_type": "markdown",
   "metadata": {},
   "source": [
    "<br>\n",
    "\n",
    "**Question 8.** What is the company that had the biggest stock price daily decrese (in %)? Enter ticker of the company as an answer"
   ]
  },
  {
   "cell_type": "code",
   "execution_count": 134,
   "metadata": {},
   "outputs": [
    {
     "data": {
      "text/plain": [
       "'UNH'"
      ]
     },
     "execution_count": 134,
     "metadata": {},
     "output_type": "execute_result"
    }
   ],
   "source": [
    "answer_part_8 = idata.idxmin()['Change'][1]\n",
    "answer_part_8"
   ]
  },
  {
   "cell_type": "code",
   "execution_count": 135,
   "metadata": {},
   "outputs": [],
   "source": [
    "# Setting our answers to grader. Do not change!\n",
    "grader.set_answer(\"Xri0I\", answer_part_8)"
   ]
  },
  {
   "cell_type": "markdown",
   "metadata": {},
   "source": [
    "<br>\n",
    "\n",
    "**Question 9.** What was the best month for all companies (i.e. average monthly price increase was the best)? Enter one of the following: January, February, March, April, May, June, July, August, September, October, November, December"
   ]
  },
  {
   "cell_type": "code",
   "execution_count": 171,
   "metadata": {},
   "outputs": [],
   "source": [
    "data['Month'] = data.Date.dt.month_name()"
   ]
  },
  {
   "cell_type": "code",
   "execution_count": 169,
   "metadata": {},
   "outputs": [],
   "source": [
    "idata = data.set_index(['Date','Ticker'])"
   ]
  },
  {
   "cell_type": "code",
   "execution_count": 180,
   "metadata": {},
   "outputs": [
    {
     "data": {
      "text/plain": [
       "(Timestamp('2019-01-02 00:00:00'), 'AXP')"
      ]
     },
     "execution_count": 180,
     "metadata": {},
     "output_type": "execute_result"
    }
   ],
   "source": [
    "idata.index[0]"
   ]
  },
  {
   "cell_type": "code",
   "execution_count": 203,
   "metadata": {},
   "outputs": [],
   "source": [
    "month_end_index = pd.date_range(start='2019-01-01', end='2019-12-31', freq='M')\n",
    "month_start_index = pd.date_range(start='2019-01-01', end='2019-12-31', freq='MS')\n",
    "month_start_index = pd.MultiIndex.from_product([month_start_index, dow_jones_companies], names=['Date', 'Ticker'])\n",
    "month_end_index = pd.MultiIndex.from_product([month_end_index, dow_jones_companies], names=['Date', 'Ticker'])\n"
   ]
  },
  {
   "cell_type": "code",
   "execution_count": 192,
   "metadata": {},
   "outputs": [],
   "source": [
    "begin_df = data.groupby(['Ticker', 'Month']).Date.min().reset_index().set_index(['Date', 'Ticker'])\n",
    "end_df = data.groupby(['Ticker', 'Month']).Date.max().reset_index().set_index(['Date', 'Ticker'])"
   ]
  },
  {
   "cell_type": "code",
   "execution_count": 197,
   "metadata": {},
   "outputs": [
    {
     "data": {
      "text/html": [
       "<div>\n",
       "<style scoped>\n",
       "    .dataframe tbody tr th:only-of-type {\n",
       "        vertical-align: middle;\n",
       "    }\n",
       "\n",
       "    .dataframe tbody tr th {\n",
       "        vertical-align: top;\n",
       "    }\n",
       "\n",
       "    .dataframe thead th {\n",
       "        text-align: right;\n",
       "    }\n",
       "</style>\n",
       "<table border=\"1\" class=\"dataframe\">\n",
       "  <thead>\n",
       "    <tr style=\"text-align: right;\">\n",
       "      <th></th>\n",
       "      <th></th>\n",
       "      <th>Month</th>\n",
       "      <th>Close</th>\n",
       "    </tr>\n",
       "    <tr>\n",
       "      <th>Date</th>\n",
       "      <th>Ticker</th>\n",
       "      <th></th>\n",
       "      <th></th>\n",
       "    </tr>\n",
       "  </thead>\n",
       "  <tbody>\n",
       "    <tr>\n",
       "      <th>2019-04-30</th>\n",
       "      <th>AAPL</th>\n",
       "      <td>April</td>\n",
       "      <td>50.167500</td>\n",
       "    </tr>\n",
       "    <tr>\n",
       "      <th>2019-08-30</th>\n",
       "      <th>AAPL</th>\n",
       "      <td>August</td>\n",
       "      <td>52.185001</td>\n",
       "    </tr>\n",
       "    <tr>\n",
       "      <th>2019-12-31</th>\n",
       "      <th>AAPL</th>\n",
       "      <td>December</td>\n",
       "      <td>73.412498</td>\n",
       "    </tr>\n",
       "    <tr>\n",
       "      <th>2019-02-28</th>\n",
       "      <th>AAPL</th>\n",
       "      <td>February</td>\n",
       "      <td>43.287498</td>\n",
       "    </tr>\n",
       "    <tr>\n",
       "      <th>2019-01-31</th>\n",
       "      <th>AAPL</th>\n",
       "      <td>January</td>\n",
       "      <td>41.610001</td>\n",
       "    </tr>\n",
       "    <tr>\n",
       "      <th>...</th>\n",
       "      <th>...</th>\n",
       "      <td>...</td>\n",
       "      <td>...</td>\n",
       "    </tr>\n",
       "    <tr>\n",
       "      <th>2019-03-29</th>\n",
       "      <th>XOM</th>\n",
       "      <td>March</td>\n",
       "      <td>80.800003</td>\n",
       "    </tr>\n",
       "    <tr>\n",
       "      <th>2019-05-31</th>\n",
       "      <th>XOM</th>\n",
       "      <td>May</td>\n",
       "      <td>70.769997</td>\n",
       "    </tr>\n",
       "    <tr>\n",
       "      <th>2019-11-29</th>\n",
       "      <th>XOM</th>\n",
       "      <td>November</td>\n",
       "      <td>68.129997</td>\n",
       "    </tr>\n",
       "    <tr>\n",
       "      <th>2019-10-31</th>\n",
       "      <th>XOM</th>\n",
       "      <td>October</td>\n",
       "      <td>67.570000</td>\n",
       "    </tr>\n",
       "    <tr>\n",
       "      <th>2019-09-30</th>\n",
       "      <th>XOM</th>\n",
       "      <td>September</td>\n",
       "      <td>70.610001</td>\n",
       "    </tr>\n",
       "  </tbody>\n",
       "</table>\n",
       "<p>358 rows × 2 columns</p>\n",
       "</div>"
      ],
      "text/plain": [
       "                       Month      Close\n",
       "Date       Ticker                      \n",
       "2019-04-30 AAPL        April  50.167500\n",
       "2019-08-30 AAPL       August  52.185001\n",
       "2019-12-31 AAPL     December  73.412498\n",
       "2019-02-28 AAPL     February  43.287498\n",
       "2019-01-31 AAPL      January  41.610001\n",
       "...                      ...        ...\n",
       "2019-03-29 XOM         March  80.800003\n",
       "2019-05-31 XOM           May  70.769997\n",
       "2019-11-29 XOM      November  68.129997\n",
       "2019-10-31 XOM       October  67.570000\n",
       "2019-09-30 XOM     September  70.610001\n",
       "\n",
       "[358 rows x 2 columns]"
      ]
     },
     "execution_count": 197,
     "metadata": {},
     "output_type": "execute_result"
    }
   ],
   "source": [
    "end_df['Close'] = idata.loc[end_df.index].Close\n",
    "end_df"
   ]
  },
  {
   "cell_type": "code",
   "execution_count": 198,
   "metadata": {},
   "outputs": [
    {
     "data": {
      "text/html": [
       "<div>\n",
       "<style scoped>\n",
       "    .dataframe tbody tr th:only-of-type {\n",
       "        vertical-align: middle;\n",
       "    }\n",
       "\n",
       "    .dataframe tbody tr th {\n",
       "        vertical-align: top;\n",
       "    }\n",
       "\n",
       "    .dataframe thead th {\n",
       "        text-align: right;\n",
       "    }\n",
       "</style>\n",
       "<table border=\"1\" class=\"dataframe\">\n",
       "  <thead>\n",
       "    <tr style=\"text-align: right;\">\n",
       "      <th></th>\n",
       "      <th></th>\n",
       "      <th>Month</th>\n",
       "      <th>Open</th>\n",
       "    </tr>\n",
       "    <tr>\n",
       "      <th>Date</th>\n",
       "      <th>Ticker</th>\n",
       "      <th></th>\n",
       "      <th></th>\n",
       "    </tr>\n",
       "  </thead>\n",
       "  <tbody>\n",
       "    <tr>\n",
       "      <th>2019-04-01</th>\n",
       "      <th>AAPL</th>\n",
       "      <td>April</td>\n",
       "      <td>47.910000</td>\n",
       "    </tr>\n",
       "    <tr>\n",
       "      <th>2019-08-01</th>\n",
       "      <th>AAPL</th>\n",
       "      <td>August</td>\n",
       "      <td>53.474998</td>\n",
       "    </tr>\n",
       "    <tr>\n",
       "      <th>2019-12-02</th>\n",
       "      <th>AAPL</th>\n",
       "      <td>December</td>\n",
       "      <td>66.817497</td>\n",
       "    </tr>\n",
       "    <tr>\n",
       "      <th>2019-02-01</th>\n",
       "      <th>AAPL</th>\n",
       "      <td>February</td>\n",
       "      <td>41.740002</td>\n",
       "    </tr>\n",
       "    <tr>\n",
       "      <th>2019-01-02</th>\n",
       "      <th>AAPL</th>\n",
       "      <td>January</td>\n",
       "      <td>38.722500</td>\n",
       "    </tr>\n",
       "    <tr>\n",
       "      <th>...</th>\n",
       "      <th>...</th>\n",
       "      <td>...</td>\n",
       "      <td>...</td>\n",
       "    </tr>\n",
       "    <tr>\n",
       "      <th>2019-03-01</th>\n",
       "      <th>XOM</th>\n",
       "      <td>March</td>\n",
       "      <td>79.379997</td>\n",
       "    </tr>\n",
       "    <tr>\n",
       "      <th>2019-05-01</th>\n",
       "      <th>XOM</th>\n",
       "      <td>May</td>\n",
       "      <td>79.940002</td>\n",
       "    </tr>\n",
       "    <tr>\n",
       "      <th>2019-11-01</th>\n",
       "      <th>XOM</th>\n",
       "      <td>November</td>\n",
       "      <td>68.389999</td>\n",
       "    </tr>\n",
       "    <tr>\n",
       "      <th>2019-10-01</th>\n",
       "      <th>XOM</th>\n",
       "      <td>October</td>\n",
       "      <td>70.830002</td>\n",
       "    </tr>\n",
       "    <tr>\n",
       "      <th>2019-09-03</th>\n",
       "      <th>XOM</th>\n",
       "      <td>September</td>\n",
       "      <td>67.889999</td>\n",
       "    </tr>\n",
       "  </tbody>\n",
       "</table>\n",
       "<p>358 rows × 2 columns</p>\n",
       "</div>"
      ],
      "text/plain": [
       "                       Month       Open\n",
       "Date       Ticker                      \n",
       "2019-04-01 AAPL        April  47.910000\n",
       "2019-08-01 AAPL       August  53.474998\n",
       "2019-12-02 AAPL     December  66.817497\n",
       "2019-02-01 AAPL     February  41.740002\n",
       "2019-01-02 AAPL      January  38.722500\n",
       "...                      ...        ...\n",
       "2019-03-01 XOM         March  79.379997\n",
       "2019-05-01 XOM           May  79.940002\n",
       "2019-11-01 XOM      November  68.389999\n",
       "2019-10-01 XOM       October  70.830002\n",
       "2019-09-03 XOM     September  67.889999\n",
       "\n",
       "[358 rows x 2 columns]"
      ]
     },
     "execution_count": 198,
     "metadata": {},
     "output_type": "execute_result"
    }
   ],
   "source": [
    "begin_df['Open'] = idata.loc[begin_df.index].Open\n",
    "begin_df"
   ]
  },
  {
   "cell_type": "code",
   "execution_count": 207,
   "metadata": {},
   "outputs": [
    {
     "data": {
      "text/plain": [
       "'January'"
      ]
     },
     "execution_count": 207,
     "metadata": {},
     "output_type": "execute_result"
    }
   ],
   "source": [
    "month_open = begin_df.reset_index().set_index(['Ticker', 'Month'])\n",
    "month_close = end_df.reset_index().set_index(['Ticker', 'Month'])\n",
    "month_open['Close'] = month_close.loc[month_open.index].Close\n",
    "month_open['Change'] = (month_open.Close/month_open.Open - 1) * 100\n",
    "month_open.groupby('Month').mean().Change.idxmax()"
   ]
  },
  {
   "cell_type": "code",
   "execution_count": 208,
   "metadata": {},
   "outputs": [
    {
     "data": {
      "text/plain": [
       "'January'"
      ]
     },
     "execution_count": 208,
     "metadata": {},
     "output_type": "execute_result"
    }
   ],
   "source": [
    "answer_part_9 = month_open.groupby('Month').mean().Change.idxmax()\n",
    "answer_part_9"
   ]
  },
  {
   "cell_type": "code",
   "execution_count": 209,
   "metadata": {},
   "outputs": [],
   "source": [
    "# Setting our answers to grader. Do not change!\n",
    "grader.set_answer(\"4JfUm\", answer_part_9)"
   ]
  },
  {
   "cell_type": "markdown",
   "metadata": {},
   "source": [
    "<br>\n",
    "\n",
    "**Question 10.** What was the worst month for all companies (i.e. average monthly price increase was the worst)? Enter one of the following: January, February, March, April, May, June, July, August, September, October, November, December"
   ]
  },
  {
   "cell_type": "code",
   "execution_count": 210,
   "metadata": {},
   "outputs": [],
   "source": [
    "answer_part_10 = month_open.groupby('Month').mean().Change.idxmin()"
   ]
  },
  {
   "cell_type": "code",
   "execution_count": 211,
   "metadata": {},
   "outputs": [],
   "source": [
    "# Setting our answers to grader. Do not change!\n",
    "grader.set_answer(\"oD7pP\", answer_part_10)"
   ]
  },
  {
   "cell_type": "markdown",
   "metadata": {},
   "source": [
    "<br>\n",
    "<br>\n",
    "\n",
    "### Submitting answers"
   ]
  },
  {
   "cell_type": "code",
   "execution_count": 306,
   "metadata": {},
   "outputs": [
    {
     "name": "stdout",
     "output_type": "stream",
     "text": [
      "Submitted to Coursera platform. See results on assignment page!\n"
     ]
    }
   ],
   "source": [
    "# you can make submission with answers so far to check yourself at this stage\n",
    "grader.submit(COURSERA_EMAIL, COURSERA_TOKEN)"
   ]
  }
 ],
 "metadata": {
  "interpreter": {
   "hash": "9aa9c2aeb07b1e1143b9f3310e367c92b5d4c626ecd2b4a786067b16c7dc3041"
  },
  "kernelspec": {
   "display_name": "Python 3.7.11 64-bit ('coursera_env': conda)",
   "name": "python3"
  },
  "language_info": {
   "codemirror_mode": {
    "name": "ipython",
    "version": 3
   },
   "file_extension": ".py",
   "mimetype": "text/x-python",
   "name": "python",
   "nbconvert_exporter": "python",
   "pygments_lexer": "ipython3",
   "version": "3.7.11"
  }
 },
 "nbformat": 4,
 "nbformat_minor": 4
}

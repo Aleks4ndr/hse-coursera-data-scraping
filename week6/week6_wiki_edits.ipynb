{
 "cells": [
  {
   "cell_type": "markdown",
   "metadata": {},
   "source": [
    "# Wikipedia Edits"
   ]
  },
  {
   "cell_type": "markdown",
   "metadata": {},
   "source": [
    "## Week 6. Practice Programming Assignment 1"
   ]
  },
  {
   "cell_type": "markdown",
   "metadata": {},
   "source": [
    "Let's look at top-5 countries of the European Union by population. They are [Germany](https://en.wikipedia.org/w/index.php?title=Germany), [France](https://en.wikipedia.org/w/index.php?title=France), [Italy](https://en.wikipedia.org/w/index.php?title=Italy), [Spain](https://en.wikipedia.org/w/index.php?title=Spain), [Poland](https://en.wikipedia.org/w/index.php?title=Poland).\n",
    "\n",
    "\n",
    "In this assignment you are required to look at wikipedia pages of these countries. More specifically, at history of edits of the pages (Click on 'View History' at the top right when you are on wikipedia article page). You are free to use any scraping tools we have covered to answer the questions, that you will find below."
   ]
  },
  {
   "cell_type": "markdown",
   "metadata": {},
   "source": [
    "###### Import coursera grader tools"
   ]
  },
  {
   "cell_type": "code",
   "execution_count": 1,
   "metadata": {},
   "outputs": [],
   "source": [
    "import sys\n",
    "sys.path.append(\"..\")\n",
    "import grading\n",
    "grader = grading.Grader(assignment_key=\"Qjww7pPCR5uU7FGL3xV9tw\", \n",
    "                      all_parts=[\"XSHot\", \"dPTWK\", \"JquX6\", \"Yjvdq\", \"L53Sc\",\n",
    "                                 \"XUNG7\", \"hyfsg\", \"8S5EP\", \"ZNeVq\", \"GnJp7\"])"
   ]
  },
  {
   "cell_type": "code",
   "execution_count": 153,
   "metadata": {},
   "outputs": [],
   "source": [
    "# token expires every 30 min\n",
    "COURSERA_EMAIL = \"aleks4ndr0@gmail.com\"\n",
    "COURSERA_TOKEN = \"EjE1iAHgYvGEkJ1i\""
   ]
  },
  {
   "cell_type": "markdown",
   "metadata": {},
   "source": [
    "<br><br><br><br>"
   ]
  },
  {
   "cell_type": "markdown",
   "metadata": {},
   "source": [
    "### Coding part"
   ]
  },
  {
   "cell_type": "code",
   "execution_count": 62,
   "metadata": {},
   "outputs": [],
   "source": [
    "import requests\n",
    "from bs4 import BeautifulSoup\n",
    "from datetime import datetime\n",
    "import pandas as pd\n",
    "\n",
    "session = requests.session()"
   ]
  },
  {
   "cell_type": "code",
   "execution_count": 155,
   "metadata": {},
   "outputs": [
    {
     "name": "stdout",
     "output_type": "stream",
     "text": [
      "country: Germany\n",
      "https://en.wikipedia.org/w/index.php?title=Germany&offset=20200519080210%7C957522347&limit=500&action=history\n",
      "https://en.wikipedia.org/w/index.php?title=Germany&offset=20190708143456%7C905342867&limit=500&action=history\n",
      "country: France\n",
      "https://en.wikipedia.org/w/index.php?title=France&offset=20200803164611%7C971003315&limit=500&action=history\n",
      "https://en.wikipedia.org/w/index.php?title=France&offset=20190219000751%7C884012501&limit=500&action=history\n",
      "country: Italy\n",
      "https://en.wikipedia.org/w/index.php?title=Italy&offset=20210123042335%7C1002164522&limit=500&action=history\n",
      "https://en.wikipedia.org/w/index.php?title=Italy&offset=20191024224047%7C922881540&limit=500&action=history\n",
      "https://en.wikipedia.org/w/index.php?title=Italy&offset=20190121155200%7C879487754&limit=500&action=history\n",
      "country: Spain\n",
      "https://en.wikipedia.org/w/index.php?title=Spain&offset=20200826154229%7C975071135&limit=500&action=history\n",
      "https://en.wikipedia.org/w/index.php?title=Spain&offset=20190629083819%7C903997731&limit=500&action=history\n",
      "country: Poland\n",
      "https://en.wikipedia.org/w/index.php?title=Poland&offset=20201204134121%7C992282662&limit=500&action=history\n",
      "https://en.wikipedia.org/w/index.php?title=Poland&offset=20200322231217%7C946878204&limit=500&action=history\n",
      "https://en.wikipedia.org/w/index.php?title=Poland&offset=20190525153625%7C898734082&limit=500&action=history\n"
     ]
    }
   ],
   "source": [
    "countries = [\"Germany\", \"France\", \"Italy\", \"Spain\", \"Poland\"]\n",
    "url = \"https://en.wikipedia.org/w/index.php\"\n",
    "host = 'https://en.wikipedia.org'\n",
    "history = []\n",
    "\n",
    "def get_history(history_lines, country) -> list:\n",
    "    history = []\n",
    "\n",
    "    for history_line in history_lines:\n",
    "        try:\n",
    "            date = history_line.select('a.mw-changeslist-date')[0].text\n",
    "        except Exception as ex:\n",
    "            continue\n",
    "        date = datetime.strptime(date, \"%H:%M, %d %B %Y\")\n",
    "        if date.year == 2019:\n",
    "            user = history_line.select('a.mw-userlink bdi')[0].text\n",
    "            history.append([country, date, user])\n",
    "\n",
    "    return history\n",
    "\n",
    "for country in countries:\n",
    "    print(f\"country: {country}\")\n",
    "    response = session.get(\"https://en.wikipedia.org/w/index.php\", params={'title': country, 'action':'history', 'limit':'500'})\n",
    "    \n",
    "    while True:\n",
    "        soup = BeautifulSoup(response.text)\n",
    "        history_lines = soup.select('ul#pagehistory > li')\n",
    "        history.extend(get_history(history_lines, country))\n",
    "\n",
    "        last_date = history_lines[-1].select('.mw-changeslist-date')[0].text\n",
    "        last_date = datetime.strptime(last_date, \"%H:%M, %d %B %Y\")\n",
    "        if last_date.year >= 2019:\n",
    "            url = host + soup.select('a.mw-nextlink')[0].attrs['href'].replace(\"&amp;\", \"&\")\n",
    "            print(url)\n",
    "            response = session.get(url)\n",
    "        else:\n",
    "            break\n",
    "\n"
   ]
  },
  {
   "cell_type": "code",
   "execution_count": 44,
   "metadata": {},
   "outputs": [],
   "source": [
    "host = 'https://en.wikipedia.org'\n",
    "url = soup.select('a.mw-nextlink')[0].attrs['href']\n",
    "res = session.get(host + url)"
   ]
  },
  {
   "cell_type": "code",
   "execution_count": 125,
   "metadata": {},
   "outputs": [],
   "source": [
    "poland_res_1 = session.get(\"https://en.wikipedia.org/w/index.php?title=Poland&offset=20200322231217%7C946878204&limit=500&action=history\")\n",
    "poland_res_2 = session.get(\"https://en.wikipedia.org/w/index.php?title=Poland&offset=20190525153625%7C898734082&limit=500&action=history\")"
   ]
  },
  {
   "cell_type": "code",
   "execution_count": 126,
   "metadata": {},
   "outputs": [],
   "source": [
    "poland_soup_1 = BeautifulSoup(poland_res_1.text)\n",
    "poland_soup_2 = BeautifulSoup(poland_res_2.text)"
   ]
  },
  {
   "cell_type": "code",
   "execution_count": 127,
   "metadata": {},
   "outputs": [],
   "source": [
    "poland_history_lines_1 = poland_soup_1.select('ul#pagehistory > li')\n",
    "poland_history_lines_2 = poland_soup_2.select('ul#pagehistory > li')"
   ]
  },
  {
   "cell_type": "code",
   "execution_count": 130,
   "metadata": {},
   "outputs": [],
   "source": [
    "pol_history = []\n",
    "pol_history.extend(get_history(poland_history_lines_1, \"Poland\"))\n",
    "pol_history.extend(get_history(poland_history_lines_2, \"Poland\"))"
   ]
  },
  {
   "cell_type": "code",
   "execution_count": 131,
   "metadata": {},
   "outputs": [
    {
     "data": {
      "text/plain": [
       "530"
      ]
     },
     "execution_count": 131,
     "metadata": {},
     "output_type": "execute_result"
    }
   ],
   "source": [
    "len(pol_history)"
   ]
  },
  {
   "cell_type": "code",
   "execution_count": null,
   "metadata": {},
   "outputs": [],
   "source": [
    "poland_soup_1.select()"
   ]
  },
  {
   "cell_type": "code",
   "execution_count": 156,
   "metadata": {},
   "outputs": [
    {
     "data": {
      "text/plain": [
       "Country\n",
       "France     401\n",
       "Germany    296\n",
       "Italy      601\n",
       "Poland     530\n",
       "Spain      375\n",
       "Name: Country, dtype: int64"
      ]
     },
     "execution_count": 156,
     "metadata": {},
     "output_type": "execute_result"
    }
   ],
   "source": [
    "df = pd.DataFrame(history, columns=['Country', 'Date', 'User'])\n",
    "df.groupby('Country')['Country'].count()"
   ]
  },
  {
   "cell_type": "markdown",
   "metadata": {},
   "source": [
    "<br><br>\n",
    "\n",
    "### Questions\n",
    "\n",
    "<br><br>\n",
    "\n",
    "**Question 1.** How many edits overall were made on pages of all the countries in 2019? "
   ]
  },
  {
   "cell_type": "code",
   "execution_count": 157,
   "metadata": {},
   "outputs": [
    {
     "data": {
      "text/plain": [
       "2203"
      ]
     },
     "execution_count": 157,
     "metadata": {},
     "output_type": "execute_result"
    }
   ],
   "source": [
    "answer_part_1 = df.shape[0]\n",
    "answer_part_1"
   ]
  },
  {
   "cell_type": "code",
   "execution_count": 158,
   "metadata": {},
   "outputs": [],
   "source": [
    "# Setting our answers to grader. Do not change!\n",
    "grader.set_answer(\"XSHot\", answer_part_1)"
   ]
  },
  {
   "cell_type": "markdown",
   "metadata": {},
   "source": [
    "<br>\n",
    "\n",
    "**Question 2.** What is the highest number of edits per country in 2019 among all countries present? "
   ]
  },
  {
   "cell_type": "code",
   "execution_count": 159,
   "metadata": {},
   "outputs": [
    {
     "data": {
      "text/plain": [
       "601"
      ]
     },
     "execution_count": 159,
     "metadata": {},
     "output_type": "execute_result"
    }
   ],
   "source": [
    "\n",
    "answer_part_2 = df.groupby('Country')['Date'].count().max()\n",
    "answer_part_2"
   ]
  },
  {
   "cell_type": "code",
   "execution_count": 160,
   "metadata": {},
   "outputs": [],
   "source": [
    "# Setting our answers to grader. Do not change!\n",
    "grader.set_answer(\"dPTWK\", answer_part_2)"
   ]
  },
  {
   "cell_type": "markdown",
   "metadata": {},
   "source": [
    "<br>\n",
    "\n",
    "**Question 3.** What is the lowest number of edits per country in 2019 among all countries present? "
   ]
  },
  {
   "cell_type": "code",
   "execution_count": 161,
   "metadata": {},
   "outputs": [
    {
     "data": {
      "text/plain": [
       "296"
      ]
     },
     "execution_count": 161,
     "metadata": {},
     "output_type": "execute_result"
    }
   ],
   "source": [
    "answer_part_3 = df.groupby('Country')['Date'].count().min()\n",
    "answer_part_3"
   ]
  },
  {
   "cell_type": "code",
   "execution_count": 162,
   "metadata": {},
   "outputs": [],
   "source": [
    "# Setting our answers to grader. Do not change!\n",
    "grader.set_answer(\"JquX6\", answer_part_3)"
   ]
  },
  {
   "cell_type": "markdown",
   "metadata": {},
   "source": [
    "<br>\n",
    "\n",
    "**Question 4.** How many users overall made edits on the countries' pages in 2019? "
   ]
  },
  {
   "cell_type": "code",
   "execution_count": 163,
   "metadata": {},
   "outputs": [
    {
     "data": {
      "text/plain": [
       "480"
      ]
     },
     "execution_count": 163,
     "metadata": {},
     "output_type": "execute_result"
    }
   ],
   "source": [
    "answer_part_4 = len(df['User'].unique())\n",
    "answer_part_4"
   ]
  },
  {
   "cell_type": "code",
   "execution_count": 164,
   "metadata": {},
   "outputs": [],
   "source": [
    "# Setting our answers to grader. Do not change!\n",
    "grader.set_answer(\"Yjvdq\", answer_part_4)"
   ]
  },
  {
   "cell_type": "markdown",
   "metadata": {},
   "source": [
    "<br>\n",
    "\n",
    "**Question 5.** What is the highest number of users made edits on country's page among all countries present in 2019? "
   ]
  },
  {
   "cell_type": "code",
   "execution_count": 165,
   "metadata": {},
   "outputs": [
    {
     "data": {
      "text/plain": [
       "152"
      ]
     },
     "execution_count": 165,
     "metadata": {},
     "output_type": "execute_result"
    }
   ],
   "source": [
    "answer_part_5 = df[['Country', 'User']].groupby(['Country', 'User']).count().reset_index().groupby('Country')['User'].count().max()\n",
    "answer_part_5"
   ]
  },
  {
   "cell_type": "code",
   "execution_count": 166,
   "metadata": {},
   "outputs": [],
   "source": [
    "# Setting our answers to grader. Do not change!\n",
    "grader.set_answer(\"L53Sc\", answer_part_5)"
   ]
  },
  {
   "cell_type": "markdown",
   "metadata": {},
   "source": [
    "<br><br>\n",
    "\n",
    "**Question 6.** What user made the most edits? "
   ]
  },
  {
   "cell_type": "code",
   "execution_count": 167,
   "metadata": {},
   "outputs": [
    {
     "data": {
      "text/plain": [
       "'Merangs'"
      ]
     },
     "execution_count": 167,
     "metadata": {},
     "output_type": "execute_result"
    }
   ],
   "source": [
    "answer_part_6 = df.groupby('User')['Country'].count().idxmax()\n",
    "answer_part_6\n"
   ]
  },
  {
   "cell_type": "code",
   "execution_count": 168,
   "metadata": {},
   "outputs": [],
   "source": [
    "# Setting our answers to grader. Do not change!\n",
    "grader.set_answer(\"XUNG7\", answer_part_6)"
   ]
  },
  {
   "cell_type": "markdown",
   "metadata": {},
   "source": [
    "<br>\n",
    "\n",
    "**Question 7.** What is average number of edits per day in 2019? "
   ]
  },
  {
   "cell_type": "code",
   "execution_count": 186,
   "metadata": {},
   "outputs": [
    {
     "data": {
      "text/plain": [
       "6.035616438356165"
      ]
     },
     "execution_count": 186,
     "metadata": {},
     "output_type": "execute_result"
    }
   ],
   "source": [
    "df['Day'] = df.Date.dt.date\n",
    "empty = pd.Series(0, index=pd.date_range(\"2019\",'2019-12-31'))\n",
    "data = df.groupby('Day')['Date'].count()\n",
    "empty.loc[data.index] = data\n",
    "\n",
    "answer_part_7 = empty.mean()\n",
    "answer_part_7"
   ]
  },
  {
   "cell_type": "code",
   "execution_count": 184,
   "metadata": {},
   "outputs": [
    {
     "data": {
      "text/plain": [
       "6.035616438356165"
      ]
     },
     "execution_count": 184,
     "metadata": {},
     "output_type": "execute_result"
    }
   ],
   "source": [
    "empty = pd.Series(0, index=pd.date_range(\"2019\",'2019-12-31'))\n",
    "data = df.groupby('Day')['Date'].count()\n",
    "\n",
    "empty.loc[data.index] = data\n",
    "empty.mean()"
   ]
  },
  {
   "cell_type": "code",
   "execution_count": null,
   "metadata": {},
   "outputs": [],
   "source": []
  },
  {
   "cell_type": "code",
   "execution_count": 190,
   "metadata": {},
   "outputs": [],
   "source": [
    "# Setting our answers to grader. Do not change!\n",
    "grader.set_answer(\"hyfsg\", answer_part_7)"
   ]
  },
  {
   "cell_type": "markdown",
   "metadata": {},
   "source": [
    "<br>\n",
    "\n",
    "**Question 8.** What is average number of edits per user in 2019? "
   ]
  },
  {
   "cell_type": "code",
   "execution_count": 171,
   "metadata": {},
   "outputs": [
    {
     "data": {
      "text/plain": [
       "4.589583333333334"
      ]
     },
     "execution_count": 171,
     "metadata": {},
     "output_type": "execute_result"
    }
   ],
   "source": [
    "answer_part_8 = df.groupby('User')['Date'].count().mean()\n",
    "answer_part_8"
   ]
  },
  {
   "cell_type": "code",
   "execution_count": 172,
   "metadata": {},
   "outputs": [],
   "source": [
    "# Setting our answers to grader. Do not change!\n",
    "grader.set_answer(\"8S5EP\", answer_part_8)"
   ]
  },
  {
   "cell_type": "markdown",
   "metadata": {},
   "source": [
    "<br>\n",
    "\n",
    "**Question 9.** What is average number of edits per day in the country with most edits in 2019? "
   ]
  },
  {
   "cell_type": "code",
   "execution_count": 188,
   "metadata": {},
   "outputs": [
    {
     "data": {
      "text/plain": [
       "1.6465753424657534"
      ]
     },
     "execution_count": 188,
     "metadata": {},
     "output_type": "execute_result"
    }
   ],
   "source": [
    "most_edited_country = df.groupby('Country')['Date'].count().idxmax()\n",
    "mdf = df[df['Country'] == most_edited_country]\n",
    "\n",
    "empty = pd.Series(0, index=pd.date_range(\"2019\",'2019-12-31'))\n",
    "data = mdf.groupby('Day')['Date'].count()\n",
    "\n",
    "empty.loc[data.index] = data\n",
    "\n",
    "answer_part_9 = empty.mean()\n",
    "answer_part_9"
   ]
  },
  {
   "cell_type": "code",
   "execution_count": 189,
   "metadata": {},
   "outputs": [],
   "source": [
    "# Setting our answers to grader. Do not change!\n",
    "grader.set_answer(\"ZNeVq\", answer_part_9)"
   ]
  },
  {
   "cell_type": "markdown",
   "metadata": {},
   "source": [
    "<br>\n",
    "\n",
    "**Question 10.** What is average number of edits per user in the country with most edits in 2019?"
   ]
  },
  {
   "cell_type": "code",
   "execution_count": 175,
   "metadata": {},
   "outputs": [
    {
     "data": {
      "text/plain": [
       "4.323741007194244"
      ]
     },
     "execution_count": 175,
     "metadata": {},
     "output_type": "execute_result"
    }
   ],
   "source": [
    "answer_part_10 = mdf.groupby('User')['Date'].count().mean()\n",
    "answer_part_10"
   ]
  },
  {
   "cell_type": "code",
   "execution_count": 176,
   "metadata": {},
   "outputs": [],
   "source": [
    "# Setting our answers to grader. Do not change!\n",
    "grader.set_answer(\"GnJp7\", answer_part_10)"
   ]
  },
  {
   "cell_type": "markdown",
   "metadata": {},
   "source": [
    "<br>\n",
    "<br>\n",
    "\n",
    "### Submitting answers"
   ]
  },
  {
   "cell_type": "code",
   "execution_count": 191,
   "metadata": {},
   "outputs": [
    {
     "name": "stdout",
     "output_type": "stream",
     "text": [
      "Submitted to Coursera platform. See results on assignment page!\n"
     ]
    }
   ],
   "source": [
    "# you can make submission with answers so far to check yourself at this stage\n",
    "grader.submit(COURSERA_EMAIL, COURSERA_TOKEN)"
   ]
  },
  {
   "cell_type": "code",
   "execution_count": 193,
   "metadata": {},
   "outputs": [],
   "source": [
    "html_doc = \"\"\"\n",
    "<html><head><title>The Dormouse's story</title></head>\n",
    "<body>\n",
    "<p class=\"title\"><b>The Dormouse's story</b></p>\n",
    "\n",
    "<p class=\"top\" role=\"navigation\">Once upon a time there were three little sisters; and their names were\n",
    "<a href=\"http://example.com/elsie\" class=\"sister\" id=\"link1\">Elsie</a>,\n",
    "<a href=\"http://example.com/lacie\" class=\"sister\" id=\"link2\">Lacie</a> and\n",
    "<a href=\"http://example.com/tillie\" class=\"sister\" id=\"link3\">Tillie</a>;\n",
    "and they lived at the bottom of a well.</p>\n",
    "\n",
    "<p class=\"story\">...</p>\n",
    "\"\"\"\n",
    "\n",
    "soup = BeautifulSoup(html_doc)"
   ]
  },
  {
   "cell_type": "code",
   "execution_count": 201,
   "metadata": {},
   "outputs": [
    {
     "data": {
      "text/plain": [
       "str"
      ]
     },
     "execution_count": 201,
     "metadata": {},
     "output_type": "execute_result"
    }
   ],
   "source": [
    "soup.select('p[class=top][role=navigation]')\n",
    "c = soup.select('p[class=\\'top\\'][role=\\'navigation\\']')[0].get_text()\n",
    "type(c)"
   ]
  }
 ],
 "metadata": {
  "interpreter": {
   "hash": "9aa9c2aeb07b1e1143b9f3310e367c92b5d4c626ecd2b4a786067b16c7dc3041"
  },
  "kernelspec": {
   "display_name": "Python 3.7.11 64-bit ('coursera_env': conda)",
   "name": "python3"
  },
  "language_info": {
   "codemirror_mode": {
    "name": "ipython",
    "version": 3
   },
   "file_extension": ".py",
   "mimetype": "text/x-python",
   "name": "python",
   "nbconvert_exporter": "python",
   "pygments_lexer": "ipython3",
   "version": "3.7.11"
  }
 },
 "nbformat": 4,
 "nbformat_minor": 4
}

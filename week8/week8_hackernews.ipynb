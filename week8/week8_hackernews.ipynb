{
 "cells": [
  {
   "cell_type": "markdown",
   "metadata": {},
   "source": [
    "# Using HackerNews API"
   ]
  },
  {
   "cell_type": "markdown",
   "metadata": {},
   "source": [
    "## Week 8. Practice Programming Assignment 1"
   ]
  },
  {
   "cell_type": "markdown",
   "metadata": {},
   "source": [
    "In this assignment we going to work with [HackerNews](https://news.ycombinator.com/). You are required to use its [API](https://github.com/HackerNews/API) to get all items from 2007-04-01 00:01 to 2007-04-07 23:59, and then use the data to answer questions you will find below."
   ]
  },
  {
   "cell_type": "markdown",
   "metadata": {},
   "source": [
    "###### Import coursera grader tools"
   ]
  },
  {
   "cell_type": "code",
   "execution_count": 81,
   "metadata": {},
   "outputs": [],
   "source": [
    "import sys\n",
    "sys.path.append(\"..\")\n",
    "import grading\n",
    "grader = grading.Grader(assignment_key=\"1wDR6Z0HRy6HXERfu3xZfw\", \n",
    "                      all_parts=[\"1OMZ7\", \"ERjp0\", \"QQkMj\", \"CNPy6\", \"yuulf\",\n",
    "                                 \"8WcJM\", \"EUQgy\", \"9xil0\", \"cz9lO\", \"JLFk8\"])"
   ]
  },
  {
   "cell_type": "code",
   "execution_count": 179,
   "metadata": {},
   "outputs": [],
   "source": [
    "# token expires every 30 min\n",
    "COURSERA_EMAIL = 'aleks4ndr0@gmail.com'\n",
    "COURSERA_TOKEN = 'CHdUBkYlmWkPjD9O'"
   ]
  },
  {
   "cell_type": "markdown",
   "metadata": {},
   "source": [
    "<br><br><br><br>"
   ]
  },
  {
   "cell_type": "markdown",
   "metadata": {},
   "source": [
    "### Coding part"
   ]
  },
  {
   "cell_type": "code",
   "execution_count": 100,
   "metadata": {},
   "outputs": [],
   "source": [
    "import requests\n",
    "import pandas as pd\n",
    "import datetime\n",
    "import time\n",
    "url = 'https://hacker-news.firebaseio.com/v0/'"
   ]
  },
  {
   "cell_type": "code",
   "execution_count": 158,
   "metadata": {},
   "outputs": [
    {
     "data": {
      "text/plain": [
       "1175990340"
      ]
     },
     "execution_count": 158,
     "metadata": {},
     "output_type": "execute_result"
    }
   ],
   "source": [
    "start = int(pd.to_datetime('2007-04-01 00:01').timestamp())\n",
    "end = int(pd.to_datetime('2007-04-07 23:59').timestamp())\n",
    "end"
   ]
  },
  {
   "cell_type": "code",
   "execution_count": 15,
   "metadata": {},
   "outputs": [
    {
     "data": {
      "text/plain": [
       "1175371200.0"
      ]
     },
     "execution_count": 15,
     "metadata": {},
     "output_type": "execute_result"
    }
   ],
   "source": [
    "datetime.datetime.timestamp(start)\n"
   ]
  },
  {
   "cell_type": "code",
   "execution_count": 18,
   "metadata": {},
   "outputs": [
    {
     "data": {
      "text/plain": [
       "1175371200.0"
      ]
     },
     "execution_count": 18,
     "metadata": {},
     "output_type": "execute_result"
    }
   ],
   "source": [
    "start.timestamp()"
   ]
  },
  {
   "cell_type": "code",
   "execution_count": 55,
   "metadata": {},
   "outputs": [],
   "source": [
    "maxitem = requests.get('https://hacker-news.firebaseio.com/v0/maxitem.json')"
   ]
  },
  {
   "cell_type": "code",
   "execution_count": 56,
   "metadata": {},
   "outputs": [],
   "source": [
    "cur_item_id = maxitem.json() // 2\n",
    "max_item_id = maxitem.json()\n",
    "min_item_id = 0\n",
    "items = []\n",
    "response = requests.get(f'https://hacker-news.firebaseio.com/v0/item/{cur_item_id}.json')"
   ]
  },
  {
   "cell_type": "code",
   "execution_count": 57,
   "metadata": {},
   "outputs": [
    {
     "data": {
      "text/plain": [
       "{'by': 'agildehaus',\n",
       " 'id': 14722122,\n",
       " 'parent': 14721604,\n",
       " 'text': 'And yet, because it&#x27;s not &quot;integrated with the operating system&quot;, Netflix content providers do not trust Chrome&#x27;s implementation and thus Chrome users are intentionally given lower-quality video.',\n",
       " 'time': 1499461743,\n",
       " 'type': 'comment'}"
      ]
     },
     "execution_count": 57,
     "metadata": {},
     "output_type": "execute_result"
    }
   ],
   "source": [
    "response.json()"
   ]
  },
  {
   "cell_type": "code",
   "execution_count": null,
   "metadata": {},
   "outputs": [],
   "source": [
    "def get_item(cur_item_id):\n",
    "    sleep_time = 1\n",
    "    while True:\n",
    "        try:\n",
    "            response = requests.get(f'https://hacker-news.firebaseio.com/v0/item/{cur_item_id}.json')\n",
    "        except Exception as ex:\n",
    "            print(f'Exception: {ex}')\n",
    "            print(f'Sleep: {sleep_time}')\n",
    "            time.sleep(sleep_time)\n",
    "            sleep_time *= 2\n",
    "            continue\n",
    "        if response.status_code != 200:\n",
    "            print(f'Status: {response.status_code}\\n Body: {response.text}')\n",
    "            print(f'Sleep: {sleep_time}')\n",
    "            time.sleep(sleep_time)\n",
    "            sleep_time *= 2\n",
    "            continue\n",
    "        else:\n",
    "            return response.json()\n",
    "\n",
    "\n",
    "while True:\n",
    "    cur_item_id = (min_item_id + max_item_id) // 2\n",
    "    cur_item = get_item(cur_item_id)\n",
    "\n",
    "    if cur_item['time'] < start:\n",
    "        min_item_id = cur_item_id\n",
    "        continue\n",
    "    elif cur_item['time'] > end:\n",
    "        max_item_id = cur_item_id\n",
    "        continue\n",
    "\n",
    "    break\n",
    "\n",
    "\n",
    "\n",
    "\n"
   ]
  },
  {
   "cell_type": "code",
   "execution_count": 59,
   "metadata": {},
   "outputs": [
    {
     "ename": "AttributeError",
     "evalue": "'dict' object has no attribute 'id'",
     "output_type": "error",
     "traceback": [
      "\u001b[0;31m---------------------------------------------------------------------------\u001b[0m",
      "\u001b[0;31mAttributeError\u001b[0m                            Traceback (most recent call last)",
      "\u001b[0;32m/var/folders/_s/2w5lh7lx0c78zcn30vmrv0w00000gn/T/ipykernel_59839/2122649211.py\u001b[0m in \u001b[0;36m<module>\u001b[0;34m\u001b[0m\n\u001b[1;32m      6\u001b[0m     \u001b[0mitems\u001b[0m\u001b[0;34m.\u001b[0m\u001b[0mappend\u001b[0m\u001b[0;34m(\u001b[0m\u001b[0mcur_item\u001b[0m\u001b[0;34m)\u001b[0m\u001b[0;34m\u001b[0m\u001b[0;34m\u001b[0m\u001b[0m\n\u001b[1;32m      7\u001b[0m \u001b[0;34m\u001b[0m\u001b[0m\n\u001b[0;32m----> 8\u001b[0;31m \u001b[0mcur_item_id\u001b[0m \u001b[0;34m=\u001b[0m \u001b[0mitems\u001b[0m\u001b[0;34m[\u001b[0m\u001b[0;36m0\u001b[0m\u001b[0;34m]\u001b[0m\u001b[0;34m.\u001b[0m\u001b[0mid\u001b[0m\u001b[0;34m\u001b[0m\u001b[0;34m\u001b[0m\u001b[0m\n\u001b[0m\u001b[1;32m      9\u001b[0m \u001b[0;32mwhile\u001b[0m \u001b[0mcur_item\u001b[0m\u001b[0;34m[\u001b[0m\u001b[0;34m'time'\u001b[0m\u001b[0;34m]\u001b[0m \u001b[0;34m<=\u001b[0m \u001b[0mend\u001b[0m\u001b[0;34m:\u001b[0m\u001b[0;34m\u001b[0m\u001b[0;34m\u001b[0m\u001b[0m\n\u001b[1;32m     10\u001b[0m     \u001b[0mcur_item_id\u001b[0m \u001b[0;34m+=\u001b[0m \u001b[0;36m1\u001b[0m\u001b[0;34m\u001b[0m\u001b[0;34m\u001b[0m\u001b[0m\n",
      "\u001b[0;31mAttributeError\u001b[0m: 'dict' object has no attribute 'id'"
     ]
    }
   ],
   "source": [
    "items.append(cur_item)\n",
    "\n",
    "while cur_item['time'] >= start:\n",
    "    cur_item_id -= 1\n",
    "    cur_item = get_item(cur_item_id)\n",
    "    items.append(cur_item)\n",
    "\n"
   ]
  },
  {
   "cell_type": "code",
   "execution_count": 64,
   "metadata": {},
   "outputs": [
    {
     "data": {
      "text/plain": [
       "False"
      ]
     },
     "execution_count": 64,
     "metadata": {},
     "output_type": "execute_result"
    }
   ],
   "source": [
    "item = items.pop()\n",
    "item['time'] >= start"
   ]
  },
  {
   "cell_type": "code",
   "execution_count": null,
   "metadata": {},
   "outputs": [],
   "source": [
    "data = items[-1:0:-1]\n",
    "data "
   ]
  },
  {
   "cell_type": "code",
   "execution_count": 69,
   "metadata": {},
   "outputs": [],
   "source": [
    "cur_item = data[-1]"
   ]
  },
  {
   "cell_type": "code",
   "execution_count": 71,
   "metadata": {},
   "outputs": [
    {
     "data": {
      "text/plain": [
       "8984"
      ]
     },
     "execution_count": 71,
     "metadata": {},
     "output_type": "execute_result"
    }
   ],
   "source": [
    "cur_item_id = cur_item['id']\n",
    "cur_item_id\n",
    "\n"
   ]
  },
  {
   "cell_type": "code",
   "execution_count": 72,
   "metadata": {},
   "outputs": [],
   "source": [
    "while True:\n",
    "    cur_item_id += 1\n",
    "    cur_item = get_item(cur_item_id)\n",
    "    if cur_item['time'] > end:\n",
    "        break\n",
    "    data.append(cur_item)"
   ]
  },
  {
   "cell_type": "code",
   "execution_count": 78,
   "metadata": {},
   "outputs": [
    {
     "data": {
      "text/plain": [
       "483"
      ]
     },
     "execution_count": 78,
     "metadata": {},
     "output_type": "execute_result"
    }
   ],
   "source": [
    "len(list(filter(lambda x: x['type'] == 'story', data)))"
   ]
  },
  {
   "cell_type": "code",
   "execution_count": 161,
   "metadata": {},
   "outputs": [
    {
     "data": {
      "text/plain": [
       "2282"
      ]
     },
     "execution_count": 161,
     "metadata": {},
     "output_type": "execute_result"
    }
   ],
   "source": [
    "first_item_id = data[0]['id']\n",
    "last_item_id = data[-1]['id']\n",
    "len(data)"
   ]
  },
  {
   "cell_type": "code",
   "execution_count": null,
   "metadata": {},
   "outputs": [],
   "source": [
    "new_items = []\n",
    "while True:\n",
    "    last_item_id += 1\n",
    "    cur_item = get_item(last_item_id)\n",
    "    if cur_item['time'] > end:\n",
    "        break\n",
    "    new_items.append(cur_item)\n",
    "\n",
    "new_items"
   ]
  },
  {
   "cell_type": "code",
   "execution_count": 162,
   "metadata": {},
   "outputs": [
    {
     "data": {
      "text/plain": [
       "2357"
      ]
     },
     "execution_count": 162,
     "metadata": {},
     "output_type": "execute_result"
    }
   ],
   "source": [
    "data.extend(new_items)\n",
    "len(data)"
   ]
  },
  {
   "cell_type": "code",
   "execution_count": 163,
   "metadata": {},
   "outputs": [],
   "source": [
    "old_data = data.copy()"
   ]
  },
  {
   "cell_type": "code",
   "execution_count": 165,
   "metadata": {},
   "outputs": [],
   "source": [
    "data = list(filter(lambda x: x['time'] >= start, old_data))"
   ]
  },
  {
   "cell_type": "code",
   "execution_count": 190,
   "metadata": {},
   "outputs": [
    {
     "data": {
      "text/plain": [
       "datetime.date(2007, 4, 7)"
      ]
     },
     "execution_count": 190,
     "metadata": {},
     "output_type": "execute_result"
    }
   ],
   "source": [
    "pd.to_datetime(data[-1]['time'], unit='s').date()"
   ]
  },
  {
   "cell_type": "code",
   "execution_count": 202,
   "metadata": {},
   "outputs": [
    {
     "data": {
      "text/plain": [
       "2317"
      ]
     },
     "execution_count": 202,
     "metadata": {},
     "output_type": "execute_result"
    }
   ],
   "source": [
    "len(data)"
   ]
  },
  {
   "cell_type": "code",
   "execution_count": 205,
   "metadata": {},
   "outputs": [
    {
     "data": {
      "text/plain": [
       "7918"
      ]
     },
     "execution_count": 205,
     "metadata": {},
     "output_type": "execute_result"
    }
   ],
   "source": [
    "data[0]['id']"
   ]
  },
  {
   "cell_type": "code",
   "execution_count": 207,
   "metadata": {},
   "outputs": [
    {
     "data": {
      "text/plain": [
       "{'by': 'gibsonf1',\n",
       " 'descendants': 0,\n",
       " 'id': 7917,\n",
       " 'score': 1,\n",
       " 'time': 1175385613,\n",
       " 'title': 'Introducing Lean Software Development',\n",
       " 'type': 'story',\n",
       " 'url': 'http://www.leansoftwareinstitute.com/art_ilsd.php'}"
      ]
     },
     "execution_count": 207,
     "metadata": {},
     "output_type": "execute_result"
    }
   ],
   "source": [
    "item = get_item(7917)\n",
    "item"
   ]
  },
  {
   "cell_type": "code",
   "execution_count": 208,
   "metadata": {},
   "outputs": [
    {
     "data": {
      "text/plain": [
       "Timestamp('2007-04-01 00:00:13')"
      ]
     },
     "execution_count": 208,
     "metadata": {},
     "output_type": "execute_result"
    }
   ],
   "source": [
    "pd.to_datetime(item['time'], unit='s')"
   ]
  },
  {
   "cell_type": "code",
   "execution_count": 209,
   "metadata": {},
   "outputs": [],
   "source": [
    "data.append(item)"
   ]
  },
  {
   "cell_type": "markdown",
   "metadata": {},
   "source": [
    "<br><br>\n",
    "\n",
    "### Questions\n",
    "\n",
    "<br><br>\n",
    "\n",
    "**Question 1.** How many stories were created during the period??"
   ]
  },
  {
   "cell_type": "code",
   "execution_count": 210,
   "metadata": {},
   "outputs": [
    {
     "data": {
      "text/plain": [
       "487"
      ]
     },
     "execution_count": 210,
     "metadata": {},
     "output_type": "execute_result"
    }
   ],
   "source": [
    "stories = list(filter(lambda x: x['type'] == 'story', data))\n",
    "answer_part_1 = len(stories)\n",
    "answer_part_1"
   ]
  },
  {
   "cell_type": "code",
   "execution_count": 211,
   "metadata": {},
   "outputs": [],
   "source": [
    "# Setting our answers to grader. Do not change!\n",
    "grader.set_answer(\"1OMZ7\", answer_part_1)"
   ]
  },
  {
   "cell_type": "markdown",
   "metadata": {},
   "source": [
    "<br>\n",
    "\n",
    "**Question 2.** What was the length of the longest story?"
   ]
  },
  {
   "cell_type": "code",
   "execution_count": null,
   "metadata": {},
   "outputs": [],
   "source": [
    "stories"
   ]
  },
  {
   "cell_type": "code",
   "execution_count": 86,
   "metadata": {},
   "outputs": [
    {
     "data": {
      "text/plain": [
       "445"
      ]
     },
     "execution_count": 86,
     "metadata": {},
     "output_type": "execute_result"
    }
   ],
   "source": [
    "answer_part_2 = max(map(lambda x: x['descendants'], stories))\n",
    "answer_part_2"
   ]
  },
  {
   "cell_type": "code",
   "execution_count": 87,
   "metadata": {},
   "outputs": [],
   "source": [
    "# Setting our answers to grader. Do not change!\n",
    "grader.set_answer(\"ERjp0\", answer_part_2)"
   ]
  },
  {
   "cell_type": "markdown",
   "metadata": {},
   "source": [
    "<br>\n",
    "\n",
    "**Question 3.** What user left the most comments?"
   ]
  },
  {
   "cell_type": "code",
   "execution_count": null,
   "metadata": {},
   "outputs": [],
   "source": [
    "comments = filter(lambda x: x['type'] == 'comment', data)\n",
    "users = list(map(lambda x: x['by'], comments))\n",
    "users\n"
   ]
  },
  {
   "cell_type": "code",
   "execution_count": 91,
   "metadata": {},
   "outputs": [
    {
     "data": {
      "text/plain": [
       "'pg'"
      ]
     },
     "execution_count": 91,
     "metadata": {},
     "output_type": "execute_result"
    }
   ],
   "source": []
  },
  {
   "cell_type": "code",
   "execution_count": 93,
   "metadata": {},
   "outputs": [
    {
     "data": {
      "text/plain": [
       "'pg'"
      ]
     },
     "execution_count": 93,
     "metadata": {},
     "output_type": "execute_result"
    }
   ],
   "source": [
    "answer_part_3 = max(set(users), key=users.count)\n",
    "answer_part_3"
   ]
  },
  {
   "cell_type": "code",
   "execution_count": 94,
   "metadata": {},
   "outputs": [],
   "source": [
    "# Setting our answers to grader. Do not change!\n",
    "grader.set_answer(\"QQkMj\", answer_part_3)"
   ]
  },
  {
   "cell_type": "markdown",
   "metadata": {},
   "source": [
    "<br>\n",
    "\n",
    "**Question 4.** What user created the most stories?"
   ]
  },
  {
   "cell_type": "code",
   "execution_count": null,
   "metadata": {},
   "outputs": [],
   "source": [
    "users = list(map(lambda x: x['by'], stories))\n",
    "users"
   ]
  },
  {
   "cell_type": "code",
   "execution_count": 96,
   "metadata": {},
   "outputs": [
    {
     "data": {
      "text/plain": [
       "'usablecontent'"
      ]
     },
     "execution_count": 96,
     "metadata": {},
     "output_type": "execute_result"
    }
   ],
   "source": [
    "answer_part_4 = max(set(users), key=users.count)\n",
    "answer_part_4"
   ]
  },
  {
   "cell_type": "code",
   "execution_count": 97,
   "metadata": {},
   "outputs": [],
   "source": [
    "# Setting our answers to grader. Do not change!\n",
    "grader.set_answer(\"CNPy6\", answer_part_4)"
   ]
  },
  {
   "cell_type": "markdown",
   "metadata": {},
   "source": [
    "<br>\n",
    "\n",
    "**Question 5.** What is day of the week with the most stories created? Enter one of the following as an answer: Monday, Tuesday, Wednesday, Thursday, Friday, Saturday, Sunday."
   ]
  },
  {
   "cell_type": "code",
   "execution_count": null,
   "metadata": {},
   "outputs": [],
   "source": [
    "story_time = list(map(lambda x: time.strftime(\"%A\", time.gmtime(x['time'])), stories))\n",
    "story_time"
   ]
  },
  {
   "cell_type": "code",
   "execution_count": 106,
   "metadata": {},
   "outputs": [
    {
     "data": {
      "text/plain": [
       "'Wednesday'"
      ]
     },
     "execution_count": 106,
     "metadata": {},
     "output_type": "execute_result"
    }
   ],
   "source": [
    "answer_part_5 = max(set(story_time), key=story_time.count)\n",
    "answer_part_5"
   ]
  },
  {
   "cell_type": "code",
   "execution_count": 107,
   "metadata": {},
   "outputs": [],
   "source": [
    "# Setting our answers to grader. Do not change!\n",
    "grader.set_answer(\"yuulf\", answer_part_5)"
   ]
  },
  {
   "cell_type": "markdown",
   "metadata": {},
   "source": [
    "<br><br>\n",
    "\n",
    "**Question 6.** What is day of the week with the most comments left? Enter one of the following as an answer: Monday, Tuesday, Wednesday, Thursday, Friday, Saturday, Sunday."
   ]
  },
  {
   "cell_type": "code",
   "execution_count": null,
   "metadata": {},
   "outputs": [],
   "source": [
    "comment_time = list(map(lambda x: time.strftime(\"%A\", time.gmtime(x['time'])), comments))\n",
    "comment_time"
   ]
  },
  {
   "cell_type": "code",
   "execution_count": 185,
   "metadata": {},
   "outputs": [],
   "source": [
    "comments = list(filter(lambda x: x['type'] == 'comment', data))\n",
    "\n"
   ]
  },
  {
   "cell_type": "code",
   "execution_count": 122,
   "metadata": {},
   "outputs": [
    {
     "data": {
      "text/plain": [
       "'Thursday'"
      ]
     },
     "execution_count": 122,
     "metadata": {},
     "output_type": "execute_result"
    }
   ],
   "source": [
    "answer_part_6 = max(set(comment_time), key=comment_time.count)\n",
    "answer_part_6"
   ]
  },
  {
   "cell_type": "code",
   "execution_count": 123,
   "metadata": {},
   "outputs": [],
   "source": [
    "# Setting our answers to grader. Do not change!\n",
    "grader.set_answer(\"8WcJM\", answer_part_6)"
   ]
  },
  {
   "cell_type": "markdown",
   "metadata": {},
   "source": [
    "<br>\n",
    "\n",
    "**Question 7.** How many comments does user leave on average?"
   ]
  },
  {
   "cell_type": "code",
   "execution_count": 128,
   "metadata": {},
   "outputs": [],
   "source": [
    "import numpy as np"
   ]
  },
  {
   "cell_type": "code",
   "execution_count": null,
   "metadata": {},
   "outputs": [],
   "source": [
    "comments_user = list(map(lambda x: x['by'], comments))\n",
    "comments_count = list(map(comments_user.count, set(comments_user)))\n",
    "comments_count\n"
   ]
  },
  {
   "cell_type": "code",
   "execution_count": 170,
   "metadata": {},
   "outputs": [
    {
     "data": {
      "text/plain": [
       "4.755844155844156"
      ]
     },
     "execution_count": 170,
     "metadata": {},
     "output_type": "execute_result"
    }
   ],
   "source": [
    "answer_part_7 = np.mean(comments_count)\n",
    "answer_part_7"
   ]
  },
  {
   "cell_type": "code",
   "execution_count": 171,
   "metadata": {},
   "outputs": [],
   "source": [
    "# Setting our answers to grader. Do not change!\n",
    "grader.set_answer(\"EUQgy\", answer_part_7)"
   ]
  },
  {
   "cell_type": "markdown",
   "metadata": {},
   "source": [
    "<br>\n",
    "\n",
    "**Question 8.** What is a median comments per user?"
   ]
  },
  {
   "cell_type": "code",
   "execution_count": 131,
   "metadata": {},
   "outputs": [
    {
     "data": {
      "text/plain": [
       "2.0"
      ]
     },
     "execution_count": 131,
     "metadata": {},
     "output_type": "execute_result"
    }
   ],
   "source": [
    "answer_part_8 = np.median(comments_count)\n",
    "answer_part_8"
   ]
  },
  {
   "cell_type": "code",
   "execution_count": 132,
   "metadata": {},
   "outputs": [],
   "source": [
    "# Setting our answers to grader. Do not change!\n",
    "grader.set_answer(\"9xil0\", answer_part_8)"
   ]
  },
  {
   "cell_type": "markdown",
   "metadata": {},
   "source": [
    "<br>\n",
    "\n",
    "**Question 9.** What is an average number of stories per day?"
   ]
  },
  {
   "cell_type": "code",
   "execution_count": 133,
   "metadata": {},
   "outputs": [],
   "source": [
    "from datetime import date"
   ]
  },
  {
   "cell_type": "code",
   "execution_count": 213,
   "metadata": {},
   "outputs": [
    {
     "data": {
      "text/plain": [
       "[88, 92, 53, 67, 81, 68, 38]"
      ]
     },
     "execution_count": 213,
     "metadata": {},
     "output_type": "execute_result"
    }
   ],
   "source": [
    "stories_days = list(map(lambda x: pd.to_datetime(x['time'], unit='s').date(), stories))\n",
    "stories_days_count = list(map(stories_days.count, set(stories_days)))\n",
    "stories_days_count"
   ]
  },
  {
   "cell_type": "code",
   "execution_count": 214,
   "metadata": {},
   "outputs": [
    {
     "data": {
      "text/plain": [
       "69.57142857142857"
      ]
     },
     "execution_count": 214,
     "metadata": {},
     "output_type": "execute_result"
    }
   ],
   "source": [
    "answer_part_9 = np.mean(stories_days_count)\n",
    "answer_part_9"
   ]
  },
  {
   "cell_type": "code",
   "execution_count": 215,
   "metadata": {},
   "outputs": [],
   "source": [
    "# Setting our answers to grader. Do not change!\n",
    "grader.set_answer(\"cz9lO\", answer_part_9)"
   ]
  },
  {
   "cell_type": "markdown",
   "metadata": {},
   "source": [
    "<br>\n",
    "\n",
    "**Question 10.** How many comments per day are left on average?"
   ]
  },
  {
   "cell_type": "code",
   "execution_count": 191,
   "metadata": {},
   "outputs": [
    {
     "data": {
      "text/plain": [
       "[201, 238, 410, 414, 194, 250, 124]"
      ]
     },
     "execution_count": 191,
     "metadata": {},
     "output_type": "execute_result"
    }
   ],
   "source": [
    "comments_days = list(map(lambda x: pd.to_datetime(x['time'], unit='s').date(), comments))\n",
    "comments_days_count = list(map(comments_days.count, set(comments_days)))\n",
    "comments_days_count"
   ]
  },
  {
   "cell_type": "code",
   "execution_count": 192,
   "metadata": {},
   "outputs": [
    {
     "data": {
      "text/plain": [
       "261.57142857142856"
      ]
     },
     "execution_count": 192,
     "metadata": {},
     "output_type": "execute_result"
    }
   ],
   "source": [
    "answer_part_10 = np.mean(comments_days_count)\n",
    "answer_part_10"
   ]
  },
  {
   "cell_type": "code",
   "execution_count": 194,
   "metadata": {},
   "outputs": [],
   "source": [
    "# Setting our answers to grader. Do not change!\n",
    "grader.set_answer(\"JLFk8\", answer_part_10)"
   ]
  },
  {
   "cell_type": "markdown",
   "metadata": {},
   "source": [
    "<br>\n",
    "<br>\n",
    "\n",
    "### Submitting answers"
   ]
  },
  {
   "cell_type": "code",
   "execution_count": 216,
   "metadata": {},
   "outputs": [
    {
     "name": "stdout",
     "output_type": "stream",
     "text": [
      "Submitted to Coursera platform. See results on assignment page!\n"
     ]
    }
   ],
   "source": [
    "# you can make submission with answers so far to check yourself at this stage\n",
    "grader.submit(COURSERA_EMAIL, COURSERA_TOKEN)"
   ]
  }
 ],
 "metadata": {
  "interpreter": {
   "hash": "9aa9c2aeb07b1e1143b9f3310e367c92b5d4c626ecd2b4a786067b16c7dc3041"
  },
  "kernelspec": {
   "display_name": "Python 3.7.11 64-bit ('coursera_env': conda)",
   "name": "python3"
  },
  "language_info": {
   "codemirror_mode": {
    "name": "ipython",
    "version": 3
   },
   "file_extension": ".py",
   "mimetype": "text/x-python",
   "name": "python",
   "nbconvert_exporter": "python",
   "pygments_lexer": "ipython3",
   "version": "3.7.11"
  }
 },
 "nbformat": 4,
 "nbformat_minor": 4
}
